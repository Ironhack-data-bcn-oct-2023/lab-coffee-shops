{
 "cells": [
  {
   "cell_type": "markdown",
   "id": "0809e785",
   "metadata": {},
   "source": [
    "# 1. Import the necessary libraries for you to be able to query 4square API"
   ]
  },
  {
   "cell_type": "code",
   "execution_count": 1,
   "id": "9b373771",
   "metadata": {},
   "outputs": [],
   "source": [
    "import requests\n",
    "import json\n",
    "import pandas as pd\n",
    "from getpass import getpass"
   ]
  },
  {
   "cell_type": "code",
   "execution_count": 3,
   "id": "21ab7b84",
   "metadata": {
    "scrolled": true
   },
   "outputs": [
    {
     "data": {
      "text/plain": [
       "True"
      ]
     },
     "execution_count": 3,
     "metadata": {},
     "output_type": "execute_result"
    }
   ],
   "source": [
    "import os\n",
    "from dotenv import load_dotenv\n",
    "load_dotenv() # load_env"
   ]
  },
  {
   "cell_type": "code",
   "execution_count": 36,
   "id": "74cdec77",
   "metadata": {},
   "outputs": [],
   "source": [
    "token = os.getenv(\"token\")"
   ]
  },
  {
   "cell_type": "code",
   "execution_count": 48,
   "id": "c0402896",
   "metadata": {},
   "outputs": [],
   "source": [
    "def requests_for_foursquare1 (query, lat, lon, radius=5000, limit=1):\n",
    "\n",
    "    url = f\"https://api.foursquare.com/v3/places/search?query={query}&ll={lat}%2C{lon}&radius={radius}&limit={limit}\"\n",
    "\n",
    "    headers = {\n",
    "        \"accept\": \"application/json\",\n",
    "        \"Authorization\": token\n",
    "    }\n",
    "    \n",
    "    try:\n",
    "        return requests.get(url, headers=headers).json()\n",
    "    except:\n",
    "        print(\"no :(\")"
   ]
  },
  {
   "cell_type": "code",
   "execution_count": 49,
   "id": "05b7489d",
   "metadata": {},
   "outputs": [],
   "source": [
    "def requests_for_foursquare (query, lat, lon, sorting='DISTANCE', radius=5000, limit=1):\n",
    "\n",
    "    url = f\"https://api.foursquare.com/v3/places/search?query={query}&ll={lat}%2C{lon}&radius={radius}&sort={sorting}&limit={limit}\"\n",
    "\n",
    "    headers = {\n",
    "        \"accept\": \"application/json\",\n",
    "        \"Authorization\": token\n",
    "    }\n",
    "    \n",
    "    try:\n",
    "        return requests.get(url, headers=headers).json()\n",
    "    except:\n",
    "        print(\"no :(\")"
   ]
  },
  {
   "cell_type": "code",
   "execution_count": null,
   "id": "44428429",
   "metadata": {},
   "outputs": [],
   "source": [
    "def transform_request_into_df (res):\n",
    "    list_of_dictionaries = [extracting_from_one_element (element) for element in res[\"results\"]]\n",
    "    return pd.DataFrame(list_of_dictionaries)"
   ]
  },
  {
   "cell_type": "code",
   "execution_count": 6,
   "id": "857878ac",
   "metadata": {},
   "outputs": [],
   "source": [
    "iron_lat = 41.3965263\n",
    "iron_lon = 2.1873015"
   ]
  },
  {
   "cell_type": "code",
   "execution_count": 10,
   "id": "1d72f571",
   "metadata": {},
   "outputs": [],
   "source": [
    "res = requests_for_foursquare (\"Coffee Shop\", iron_lat, iron_lon, radius=50000, limit=1)"
   ]
  },
  {
   "cell_type": "code",
   "execution_count": 26,
   "id": "6a66ef26",
   "metadata": {},
   "outputs": [],
   "source": [
    "def extracting_from_one_element (one_coffee_shop):\n",
    "\n",
    "    name = one_coffee_shop[\"name\"]\n",
    "    address = one_coffee_shop[\"location\"][\"address\"]\n",
    "    distance = one_coffee_shop[\"distance\"]\n",
    "    zip_code = one_coffee_shop[\"location\"][\"postcode\"]\n",
    "    lat = one_coffee_shop[\"geocodes\"][\"main\"][\"latitude\"]\n",
    "    lon = one_coffee_shop[\"geocodes\"][\"main\"][\"longitude\"]\n",
    "\n",
    "    \n",
    "    small_dict = {\n",
    "    \"name\": name,\n",
    "    \"address\": address,\n",
    "    \"zip_code\": zip_code,\n",
    "    \"distance\": distance,\n",
    "    \"lat\": lat,\n",
    "    \"lon\": lon\n",
    "}\n",
    "    return small_dict"
   ]
  },
  {
   "cell_type": "markdown",
   "id": "e94dce92",
   "metadata": {},
   "source": [
    "# 2. Get names and location of the 10 coffee places by passing Ironhack as your location"
   ]
  },
  {
   "cell_type": "code",
   "execution_count": 21,
   "id": "3a2f08b2",
   "metadata": {},
   "outputs": [],
   "source": [
    "res1 = requests_for_foursquare (\"Coffee Shop\", iron_lat, iron_lon, radius=5000, limit=10)"
   ]
  },
  {
   "cell_type": "code",
   "execution_count": 27,
   "id": "03c6b5e2",
   "metadata": {},
   "outputs": [],
   "source": [
    "list_of_dictionaries = [extracting_from_one_element(el) for el in res1[\"results\"]]"
   ]
  },
  {
   "cell_type": "code",
   "execution_count": 28,
   "id": "6b678196",
   "metadata": {
    "scrolled": false
   },
   "outputs": [
    {
     "data": {
      "text/plain": [
       "[{'name': 'Nømad Coffee Lab & Shop',\n",
       "  'address': 'Pasatge Sert, 12',\n",
       "  'zip_code': '08003',\n",
       "  'distance': 1194,\n",
       "  'lat': 41.388989,\n",
       "  'lon': 2.177167},\n",
       " {'name': 'Cafés el Magnífico',\n",
       "  'address': 'Argenteria, 64',\n",
       "  'zip_code': '08003',\n",
       "  'distance': 1532,\n",
       "  'lat': 41.383541,\n",
       "  'lon': 2.180957},\n",
       " {'name': 'Espai Joliu',\n",
       "  'address': 'Carrer Badajoz, 95',\n",
       "  'zip_code': '08005',\n",
       "  'distance': 687,\n",
       "  'lat': 41.398735,\n",
       "  'lon': 2.195069},\n",
       " {'name': 'Three Marks Coffee',\n",
       "  'address': 'Ausiàs Marc, 151',\n",
       "  'zip_code': '08013',\n",
       "  'distance': 329,\n",
       "  'lat': 41.397168,\n",
       "  'lon': 2.183123},\n",
       " {'name': 'El Petit Príncep',\n",
       "  'address': 'Gran Vía de Les Corts Catalanes, 677',\n",
       "  'zip_code': '08013',\n",
       "  'distance': 845,\n",
       "  'lat': 41.396371,\n",
       "  'lon': 2.177069},\n",
       " {'name': \"Nømad Roaster's Home\",\n",
       "  'address': 'Calle de Pujades, 95',\n",
       "  'zip_code': '08005',\n",
       "  'distance': 720,\n",
       "  'lat': 41.397977,\n",
       "  'lon': 2.195589},\n",
       " {'name': 'Roast Club',\n",
       "  'address': 'Carrer de València, 190',\n",
       "  'zip_code': '08011',\n",
       "  'distance': 2692,\n",
       "  'lat': 41.387825,\n",
       "  'lon': 2.157221},\n",
       " {'name': 'Dalston Coffee',\n",
       "  'address': 'Calle de Les Ramelleres, 16',\n",
       "  'zip_code': '08001',\n",
       "  'distance': 2068,\n",
       "  'lat': 41.384525,\n",
       "  'lon': 2.168502},\n",
       " {'name': 'Federal',\n",
       "  'address': 'Passatge de la Pau, 11',\n",
       "  'zip_code': '08002',\n",
       "  'distance': 2195,\n",
       "  'lat': 41.378049,\n",
       "  'lon': 2.177796},\n",
       " {'name': 'Syra Coffee',\n",
       "  'address': 'Siracusa, 13',\n",
       "  'zip_code': '08012',\n",
       "  'distance': 2379,\n",
       "  'lat': 41.400981,\n",
       "  'lon': 2.159596}]"
      ]
     },
     "execution_count": 28,
     "metadata": {},
     "output_type": "execute_result"
    }
   ],
   "source": [
    "list_of_dictionaries "
   ]
  },
  {
   "cell_type": "code",
   "execution_count": 29,
   "id": "a68b2345",
   "metadata": {},
   "outputs": [
    {
     "data": {
      "text/html": [
       "<div>\n",
       "<style scoped>\n",
       "    .dataframe tbody tr th:only-of-type {\n",
       "        vertical-align: middle;\n",
       "    }\n",
       "\n",
       "    .dataframe tbody tr th {\n",
       "        vertical-align: top;\n",
       "    }\n",
       "\n",
       "    .dataframe thead th {\n",
       "        text-align: right;\n",
       "    }\n",
       "</style>\n",
       "<table border=\"1\" class=\"dataframe\">\n",
       "  <thead>\n",
       "    <tr style=\"text-align: right;\">\n",
       "      <th></th>\n",
       "      <th>name</th>\n",
       "      <th>address</th>\n",
       "      <th>zip_code</th>\n",
       "      <th>distance</th>\n",
       "      <th>lat</th>\n",
       "      <th>lon</th>\n",
       "    </tr>\n",
       "  </thead>\n",
       "  <tbody>\n",
       "    <tr>\n",
       "      <th>0</th>\n",
       "      <td>Nømad Coffee Lab &amp; Shop</td>\n",
       "      <td>Pasatge Sert, 12</td>\n",
       "      <td>08003</td>\n",
       "      <td>1194</td>\n",
       "      <td>41.388989</td>\n",
       "      <td>2.177167</td>\n",
       "    </tr>\n",
       "    <tr>\n",
       "      <th>1</th>\n",
       "      <td>Cafés el Magnífico</td>\n",
       "      <td>Argenteria, 64</td>\n",
       "      <td>08003</td>\n",
       "      <td>1532</td>\n",
       "      <td>41.383541</td>\n",
       "      <td>2.180957</td>\n",
       "    </tr>\n",
       "    <tr>\n",
       "      <th>2</th>\n",
       "      <td>Espai Joliu</td>\n",
       "      <td>Carrer Badajoz, 95</td>\n",
       "      <td>08005</td>\n",
       "      <td>687</td>\n",
       "      <td>41.398735</td>\n",
       "      <td>2.195069</td>\n",
       "    </tr>\n",
       "    <tr>\n",
       "      <th>3</th>\n",
       "      <td>Three Marks Coffee</td>\n",
       "      <td>Ausiàs Marc, 151</td>\n",
       "      <td>08013</td>\n",
       "      <td>329</td>\n",
       "      <td>41.397168</td>\n",
       "      <td>2.183123</td>\n",
       "    </tr>\n",
       "    <tr>\n",
       "      <th>4</th>\n",
       "      <td>El Petit Príncep</td>\n",
       "      <td>Gran Vía de Les Corts Catalanes, 677</td>\n",
       "      <td>08013</td>\n",
       "      <td>845</td>\n",
       "      <td>41.396371</td>\n",
       "      <td>2.177069</td>\n",
       "    </tr>\n",
       "    <tr>\n",
       "      <th>5</th>\n",
       "      <td>Nømad Roaster's Home</td>\n",
       "      <td>Calle de Pujades, 95</td>\n",
       "      <td>08005</td>\n",
       "      <td>720</td>\n",
       "      <td>41.397977</td>\n",
       "      <td>2.195589</td>\n",
       "    </tr>\n",
       "    <tr>\n",
       "      <th>6</th>\n",
       "      <td>Roast Club</td>\n",
       "      <td>Carrer de València, 190</td>\n",
       "      <td>08011</td>\n",
       "      <td>2692</td>\n",
       "      <td>41.387825</td>\n",
       "      <td>2.157221</td>\n",
       "    </tr>\n",
       "    <tr>\n",
       "      <th>7</th>\n",
       "      <td>Dalston Coffee</td>\n",
       "      <td>Calle de Les Ramelleres, 16</td>\n",
       "      <td>08001</td>\n",
       "      <td>2068</td>\n",
       "      <td>41.384525</td>\n",
       "      <td>2.168502</td>\n",
       "    </tr>\n",
       "    <tr>\n",
       "      <th>8</th>\n",
       "      <td>Federal</td>\n",
       "      <td>Passatge de la Pau, 11</td>\n",
       "      <td>08002</td>\n",
       "      <td>2195</td>\n",
       "      <td>41.378049</td>\n",
       "      <td>2.177796</td>\n",
       "    </tr>\n",
       "    <tr>\n",
       "      <th>9</th>\n",
       "      <td>Syra Coffee</td>\n",
       "      <td>Siracusa, 13</td>\n",
       "      <td>08012</td>\n",
       "      <td>2379</td>\n",
       "      <td>41.400981</td>\n",
       "      <td>2.159596</td>\n",
       "    </tr>\n",
       "  </tbody>\n",
       "</table>\n",
       "</div>"
      ],
      "text/plain": [
       "                      name                               address zip_code  \\\n",
       "0  Nømad Coffee Lab & Shop                      Pasatge Sert, 12    08003   \n",
       "1       Cafés el Magnífico                        Argenteria, 64    08003   \n",
       "2              Espai Joliu                    Carrer Badajoz, 95    08005   \n",
       "3       Three Marks Coffee                      Ausiàs Marc, 151    08013   \n",
       "4         El Petit Príncep  Gran Vía de Les Corts Catalanes, 677    08013   \n",
       "5     Nømad Roaster's Home                  Calle de Pujades, 95    08005   \n",
       "6               Roast Club               Carrer de València, 190    08011   \n",
       "7           Dalston Coffee           Calle de Les Ramelleres, 16    08001   \n",
       "8                  Federal                Passatge de la Pau, 11    08002   \n",
       "9              Syra Coffee                          Siracusa, 13    08012   \n",
       "\n",
       "   distance        lat       lon  \n",
       "0      1194  41.388989  2.177167  \n",
       "1      1532  41.383541  2.180957  \n",
       "2       687  41.398735  2.195069  \n",
       "3       329  41.397168  2.183123  \n",
       "4       845  41.396371  2.177069  \n",
       "5       720  41.397977  2.195589  \n",
       "6      2692  41.387825  2.157221  \n",
       "7      2068  41.384525  2.168502  \n",
       "8      2195  41.378049  2.177796  \n",
       "9      2379  41.400981  2.159596  "
      ]
     },
     "execution_count": 29,
     "metadata": {},
     "output_type": "execute_result"
    }
   ],
   "source": [
    "df = pd.DataFrame(list_of_dictionaries)\n",
    "df"
   ]
  },
  {
   "cell_type": "markdown",
   "id": "941b5dbf",
   "metadata": {},
   "source": [
    "# 3. Now get the 5 CLOSEST coffe places. Make use of params: limit, near?"
   ]
  },
  {
   "cell_type": "code",
   "execution_count": 31,
   "id": "fda8ddff",
   "metadata": {},
   "outputs": [],
   "source": [
    "res3 = requests_for_foursquare (\"Coffee Shop\", iron_lat, iron_lon, sorting='DISTANCE', radius=5000, limit=5)"
   ]
  },
  {
   "cell_type": "code",
   "execution_count": 33,
   "id": "0ce87698",
   "metadata": {},
   "outputs": [],
   "source": [
    "list_of_dictionaries = [extracting_from_one_element(el) for el in res3[\"results\"]]"
   ]
  },
  {
   "cell_type": "code",
   "execution_count": 34,
   "id": "5f13037d",
   "metadata": {
    "scrolled": false
   },
   "outputs": [
    {
     "data": {
      "text/plain": [
       "[{'name': 'Andalucia Restaurante',\n",
       "  'address': 'Avenida Meridiana, 30-32',\n",
       "  'zip_code': '08018',\n",
       "  'distance': 143,\n",
       "  'lat': 41.395239,\n",
       "  'lon': 2.187192},\n",
       " {'name': 'Three Marks Coffee',\n",
       "  'address': 'Ausiàs Marc, 151',\n",
       "  'zip_code': '08013',\n",
       "  'distance': 329,\n",
       "  'lat': 41.397168,\n",
       "  'lon': 2.183123},\n",
       " {'name': 'Cacho',\n",
       "  'address': 'Carrer de Llull, 27',\n",
       "  'zip_code': '08005',\n",
       "  'distance': 498,\n",
       "  'lat': 41.393082,\n",
       "  'lon': 2.191038},\n",
       " {'name': 'Santa Fe',\n",
       "  'address': 'Lington, 17',\n",
       "  'zip_code': '08018',\n",
       "  'distance': 504,\n",
       "  'lat': 41.392081,\n",
       "  'lon': 2.185666},\n",
       " {'name': 'Juice Dudes',\n",
       "  'address': 'Avinguda Meridiana, 1',\n",
       "  'zip_code': '08018',\n",
       "  'distance': 519,\n",
       "  'lat': 41.391994,\n",
       "  'lon': 2.186526}]"
      ]
     },
     "execution_count": 34,
     "metadata": {},
     "output_type": "execute_result"
    }
   ],
   "source": [
    "list_of_dictionaries "
   ]
  },
  {
   "cell_type": "code",
   "execution_count": 37,
   "id": "6af33f13",
   "metadata": {},
   "outputs": [
    {
     "data": {
      "text/html": [
       "<div>\n",
       "<style scoped>\n",
       "    .dataframe tbody tr th:only-of-type {\n",
       "        vertical-align: middle;\n",
       "    }\n",
       "\n",
       "    .dataframe tbody tr th {\n",
       "        vertical-align: top;\n",
       "    }\n",
       "\n",
       "    .dataframe thead th {\n",
       "        text-align: right;\n",
       "    }\n",
       "</style>\n",
       "<table border=\"1\" class=\"dataframe\">\n",
       "  <thead>\n",
       "    <tr style=\"text-align: right;\">\n",
       "      <th></th>\n",
       "      <th>name</th>\n",
       "      <th>address</th>\n",
       "      <th>zip_code</th>\n",
       "      <th>distance</th>\n",
       "      <th>lat</th>\n",
       "      <th>lon</th>\n",
       "    </tr>\n",
       "  </thead>\n",
       "  <tbody>\n",
       "    <tr>\n",
       "      <th>0</th>\n",
       "      <td>Andalucia Restaurante</td>\n",
       "      <td>Avenida Meridiana, 30-32</td>\n",
       "      <td>08018</td>\n",
       "      <td>143</td>\n",
       "      <td>41.395239</td>\n",
       "      <td>2.187192</td>\n",
       "    </tr>\n",
       "    <tr>\n",
       "      <th>1</th>\n",
       "      <td>Three Marks Coffee</td>\n",
       "      <td>Ausiàs Marc, 151</td>\n",
       "      <td>08013</td>\n",
       "      <td>329</td>\n",
       "      <td>41.397168</td>\n",
       "      <td>2.183123</td>\n",
       "    </tr>\n",
       "    <tr>\n",
       "      <th>2</th>\n",
       "      <td>Cacho</td>\n",
       "      <td>Carrer de Llull, 27</td>\n",
       "      <td>08005</td>\n",
       "      <td>498</td>\n",
       "      <td>41.393082</td>\n",
       "      <td>2.191038</td>\n",
       "    </tr>\n",
       "    <tr>\n",
       "      <th>3</th>\n",
       "      <td>Santa Fe</td>\n",
       "      <td>Lington, 17</td>\n",
       "      <td>08018</td>\n",
       "      <td>504</td>\n",
       "      <td>41.392081</td>\n",
       "      <td>2.185666</td>\n",
       "    </tr>\n",
       "    <tr>\n",
       "      <th>4</th>\n",
       "      <td>Juice Dudes</td>\n",
       "      <td>Avinguda Meridiana, 1</td>\n",
       "      <td>08018</td>\n",
       "      <td>519</td>\n",
       "      <td>41.391994</td>\n",
       "      <td>2.186526</td>\n",
       "    </tr>\n",
       "  </tbody>\n",
       "</table>\n",
       "</div>"
      ],
      "text/plain": [
       "                    name                   address zip_code  distance  \\\n",
       "0  Andalucia Restaurante  Avenida Meridiana, 30-32    08018       143   \n",
       "1     Three Marks Coffee          Ausiàs Marc, 151    08013       329   \n",
       "2                  Cacho       Carrer de Llull, 27    08005       498   \n",
       "3               Santa Fe               Lington, 17    08018       504   \n",
       "4            Juice Dudes     Avinguda Meridiana, 1    08018       519   \n",
       "\n",
       "         lat       lon  \n",
       "0  41.395239  2.187192  \n",
       "1  41.397168  2.183123  \n",
       "2  41.393082  2.191038  \n",
       "3  41.392081  2.185666  \n",
       "4  41.391994  2.186526  "
      ]
     },
     "execution_count": 37,
     "metadata": {},
     "output_type": "execute_result"
    }
   ],
   "source": [
    "df = pd.DataFrame(list_of_dictionaries)\n",
    "df"
   ]
  },
  {
   "cell_type": "markdown",
   "id": "d19904e8",
   "metadata": {},
   "source": [
    "# 4. Define a function that returns name, lat, long for starbucks OR restaurants AND for any given location"
   ]
  },
  {
   "cell_type": "code",
   "execution_count": 40,
   "id": "592ddd9d",
   "metadata": {},
   "outputs": [
    {
     "data": {
      "text/plain": [
       "'41.3965263,2.1873015'"
      ]
     },
     "execution_count": 40,
     "metadata": {},
     "output_type": "execute_result"
    }
   ],
   "source": [
    "iron_coord = f'{iron_lat},{iron_lon}'\n",
    "iron_coord"
   ]
  },
  {
   "cell_type": "code",
   "execution_count": 55,
   "id": "1fad5153",
   "metadata": {},
   "outputs": [],
   "source": [
    "def foursquare_places (venue, coordinates,limit=1):\n",
    "    lat = coordinates.split(\",\")[0].strip()\n",
    "    lon = coordinates.split(\",\")[1].strip()\n",
    "    \n",
    "    res = requests_for_foursquare1(venue,lat,lon,limit=limit)\n",
    "    \n",
    "    place = res[\"results\"][0]\n",
    "    \n",
    "    \n",
    "    name = place[\"name\"]\n",
    "    place_lat = place[\"geocodes\"][\"main\"][\"latitude\"]\n",
    "    place_lon = place[\"geocodes\"][\"main\"][\"longitude\"]\n",
    "    \n",
    "    dict = {\n",
    "        \"name\":name,\n",
    "        \"lat\":place_lat,\n",
    "        \"lon\":place_lon\n",
    "    }\n",
    "    return dict"
   ]
  },
  {
   "cell_type": "code",
   "execution_count": null,
   "id": "89e34f36",
   "metadata": {},
   "outputs": [],
   "source": []
  },
  {
   "cell_type": "code",
   "execution_count": 56,
   "id": "c6cf14c6",
   "metadata": {},
   "outputs": [
    {
     "data": {
      "text/plain": [
       "{'name': 'Can Dendê', 'lat': 41.39836, 'lon': 2.198345}"
      ]
     },
     "execution_count": 56,
     "metadata": {},
     "output_type": "execute_result"
    }
   ],
   "source": [
    "d = foursquare_places(\"restaurant\",iron_coord)\n",
    "d"
   ]
  },
  {
   "cell_type": "code",
   "execution_count": 57,
   "id": "98301056",
   "metadata": {},
   "outputs": [
    {
     "data": {
      "text/html": [
       "<div>\n",
       "<style scoped>\n",
       "    .dataframe tbody tr th:only-of-type {\n",
       "        vertical-align: middle;\n",
       "    }\n",
       "\n",
       "    .dataframe tbody tr th {\n",
       "        vertical-align: top;\n",
       "    }\n",
       "\n",
       "    .dataframe thead th {\n",
       "        text-align: right;\n",
       "    }\n",
       "</style>\n",
       "<table border=\"1\" class=\"dataframe\">\n",
       "  <thead>\n",
       "    <tr style=\"text-align: right;\">\n",
       "      <th></th>\n",
       "      <th>name</th>\n",
       "      <th>lat</th>\n",
       "      <th>lon</th>\n",
       "    </tr>\n",
       "  </thead>\n",
       "  <tbody>\n",
       "    <tr>\n",
       "      <th>0</th>\n",
       "      <td>Can Dendê</td>\n",
       "      <td>41.39836</td>\n",
       "      <td>2.198345</td>\n",
       "    </tr>\n",
       "  </tbody>\n",
       "</table>\n",
       "</div>"
      ],
      "text/plain": [
       "        name       lat       lon\n",
       "0  Can Dendê  41.39836  2.198345"
      ]
     },
     "execution_count": 57,
     "metadata": {},
     "output_type": "execute_result"
    }
   ],
   "source": [
    "df = pd.DataFrame([d])\n",
    "df"
   ]
  },
  {
   "cell_type": "markdown",
   "id": "1836c1a1",
   "metadata": {},
   "source": [
    "# 5. Export it into data folder as a json: `data/coffe_shops.json`"
   ]
  },
  {
   "cell_type": "code",
   "execution_count": 58,
   "id": "7ac5f2a8",
   "metadata": {},
   "outputs": [],
   "source": [
    "df.to_json(\"data/coffee_shops.json\", index=False)"
   ]
  },
  {
   "cell_type": "markdown",
   "id": "2d77e99d",
   "metadata": {},
   "source": [
    "# BONUS: load it into MongoDB in a collection named \"ironcoffee\" using pymongo"
   ]
  },
  {
   "cell_type": "code",
   "execution_count": null,
   "id": "62337b2f",
   "metadata": {},
   "outputs": [],
   "source": [
    "import pymongo\n",
    "client = pymongo.MongoClient(\"localhost:27017\")\n",
    "db = client[\"Ironhack\"]\n",
    "c = db.get_collection(\"lab_foursquare\") \n",
    "c.insert_one({\"hola\":\"qué tal\"})"
   ]
  },
  {
   "cell_type": "code",
   "execution_count": null,
   "id": "f68d0e72",
   "metadata": {},
   "outputs": [],
   "source": [
    "def foursquare_places_mongo (venue, coordinates):\n",
    "    lat = coordinates.split(\",\")[0].strip()\n",
    "    lon = coordinates.split(\",\")[1].strip()\n",
    "    \n",
    "    res = requests_for_foursquare(venue,lat, lon)\n",
    "    \n",
    "    place = res[\"results\"][0]\n",
    "    \n",
    "    name = place[\"name\"]\n",
    "    place_lat = place[\"geocodes\"][\"main\"][\"latitude\"]\n",
    "    place_lon = place[\"geocodes\"][\"main\"][\"latitude\"]\n",
    "    \n",
    "    dict = {\n",
    "        \"name\":name,\n",
    "        \"lat\":place_lat,\n",
    "        \"lon\":place_lon\n",
    "    }\n",
    "    \n",
    "    df=pd.DataFrame([dict])\n",
    "    \n",
    "    for index, row in df.iterrows():\n",
    "    c.insert_one(dict(row))\n",
    "    \n",
    "    return dict"
   ]
  }
 ],
 "metadata": {
  "kernelspec": {
   "display_name": "ironhack",
   "language": "python",
   "name": "ironhack"
  },
  "language_info": {
   "codemirror_mode": {
    "name": "ipython",
    "version": 3
   },
   "file_extension": ".py",
   "mimetype": "text/x-python",
   "name": "python",
   "nbconvert_exporter": "python",
   "pygments_lexer": "ipython3",
   "version": "3.11.5"
  },
  "toc": {
   "base_numbering": 1,
   "nav_menu": {},
   "number_sections": true,
   "sideBar": true,
   "skip_h1_title": false,
   "title_cell": "Table of Contents",
   "title_sidebar": "Contents",
   "toc_cell": false,
   "toc_position": {},
   "toc_section_display": true,
   "toc_window_display": true
  }
 },
 "nbformat": 4,
 "nbformat_minor": 5
}
