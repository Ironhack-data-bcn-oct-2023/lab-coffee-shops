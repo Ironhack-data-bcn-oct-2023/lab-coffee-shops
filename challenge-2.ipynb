{
 "cells": [
  {
   "cell_type": "markdown",
   "id": "0809e785",
   "metadata": {},
   "source": [
    "# 1. Import the necessary libraries for you to be able to query 4square API"
   ]
  },
  {
   "cell_type": "code",
   "execution_count": 195,
   "id": "9b373771",
   "metadata": {},
   "outputs": [],
   "source": [
    "import requests\n",
    "import json\n",
    "import pandas as pd\n",
    "from getpass import getpass\n",
    "import cartoframes\n",
    "from dotenv import load_dotenv\n",
    "import os\n",
    "import pymongo\n",
    "token = os.getenv(\"token\")"
   ]
  },
  {
   "cell_type": "markdown",
   "id": "e94dce92",
   "metadata": {},
   "source": [
    "# 2. Get names and location of the 10 coffee places by passing Ironhack as your location"
   ]
  },
  {
   "cell_type": "code",
   "execution_count": 196,
   "id": "6ec55f1e",
   "metadata": {},
   "outputs": [
    {
     "data": {
      "text/plain": [
       "{'standard': {'stnumber': '96',\n",
       "  'addresst': 'Pamplona',\n",
       "  'statename': 'Catalonia',\n",
       "  'postal': '08018',\n",
       "  'region': 'Catalonia',\n",
       "  'prov': 'ES',\n",
       "  'city': 'Barcelona',\n",
       "  'countryname': 'Spain',\n",
       "  'confidence': '0.9'},\n",
       " 'longt': '2.19035',\n",
       " 'alt': {},\n",
       " 'elevation': {},\n",
       " 'latt': '41.39780'}"
      ]
     },
     "execution_count": 196,
     "metadata": {},
     "output_type": "execute_result"
    }
   ],
   "source": [
    "where = \"Pamplona, 96, 08018 Barcelona\"\n",
    "url_geocode = f\"https://geocode.xyz/{where}?json=1\"\n",
    "res = requests.get(url_geocode)\n",
    "res.json()\n"
   ]
  },
  {
   "cell_type": "code",
   "execution_count": 197,
   "id": "2f635a56",
   "metadata": {},
   "outputs": [],
   "source": [
    "lat = res.json()[\"latt\"]\n",
    "lon = res.json()[\"longt\"]"
   ]
  },
  {
   "cell_type": "code",
   "execution_count": 198,
   "id": "47dd4bd6",
   "metadata": {},
   "outputs": [
    {
     "name": "stdout",
     "output_type": "stream",
     "text": [
      "41.39780 2.19035\n"
     ]
    }
   ],
   "source": [
    "print(lat, lon)"
   ]
  },
  {
   "cell_type": "code",
   "execution_count": 199,
   "id": "1d72f571",
   "metadata": {},
   "outputs": [],
   "source": [
    "def response_foursquare (query, lat, lon, radius=500, limit=1): \n",
    "    url = f\"https://api.foursquare.com/v3/places/search?query={query}&ll={lat}%2C{lon}&radius={radius}&limit={limit}\"\n",
    "\n",
    "    headers = {\n",
    "        \"accept\": \"application/json\",\n",
    "        \"Authorization\": token\n",
    "    }\n",
    "\n",
    "    response = requests.get(url, headers=headers)\n",
    "    return response.json()"
   ]
  },
  {
   "cell_type": "code",
   "execution_count": 200,
   "id": "07992e8e",
   "metadata": {},
   "outputs": [],
   "source": [
    "def extracting_from_one_element (element):\n",
    "\n",
    "    name = element[\"name\"]\n",
    "    lat = element[\"geocodes\"][\"main\"][\"latitude\"]\n",
    "    lon = element[\"geocodes\"][\"main\"][\"longitude\"]\n",
    "\n",
    "    \n",
    "    small_dict = {\n",
    "    \"name\": name,\n",
    "    \"lat\": lat,\n",
    "    \"lon\": lon\n",
    "}\n",
    "    return small_dict"
   ]
  },
  {
   "cell_type": "code",
   "execution_count": 201,
   "id": "e3a96441",
   "metadata": {},
   "outputs": [],
   "source": [
    "response = response_foursquare(\"cafe\", lat, lon, 500, 10)"
   ]
  },
  {
   "cell_type": "code",
   "execution_count": 202,
   "id": "56b70e0a",
   "metadata": {},
   "outputs": [
    {
     "data": {
      "text/plain": [
       "[{'name': 'Cafeteria Industrial', 'lat': 41.399175, 'lon': 2.195368},\n",
       " {'name': \"L'Estoneta\", 'lat': 41.399145, 'lon': 2.188496},\n",
       " {'name': 'Espai Joliu', 'lat': 41.398735, 'lon': 2.195069},\n",
       " {'name': 'Cafeteria Botanica', 'lat': 41.398044, 'lon': 2.191915},\n",
       " {'name': 'SKYE Coffee Co', 'lat': 41.396937, 'lon': 2.191519},\n",
       " {'name': 'Classic Bar Cafeteria', 'lat': 41.395408, 'lon': 2.187203},\n",
       " {'name': 'Cafeteria Bar BAU', 'lat': 41.397524, 'lon': 2.196263},\n",
       " {'name': \"Nømad Roaster's Home\", 'lat': 41.397977, 'lon': 2.195589},\n",
       " {'name': 'Rebeka', 'lat': 41.396763, 'lon': 2.18902},\n",
       " {'name': 'Syra Coffee Poblenou', 'lat': 41.396518, 'lon': 2.19417}]"
      ]
     },
     "execution_count": 202,
     "metadata": {},
     "output_type": "execute_result"
    }
   ],
   "source": [
    "coffee_shop_names = [extracting_from_one_element (element) for element in response[\"results\"]]\n",
    "coffee_shop_names"
   ]
  },
  {
   "cell_type": "markdown",
   "id": "941b5dbf",
   "metadata": {},
   "source": [
    "# 3. Now get the 5 CLOSEST coffe places. Make use of params: limit, near?"
   ]
  },
  {
   "cell_type": "code",
   "execution_count": 203,
   "id": "fda8ddff",
   "metadata": {},
   "outputs": [
    {
     "data": {
      "text/plain": [
       "[{'name': 'Tandem Cocktail Bar', 'lat': 41.389615, 'lon': 2.157902},\n",
       " {'name': 'Roast Club', 'lat': 41.387825, 'lon': 2.157221},\n",
       " {'name': 'Garage Beer Co', 'lat': 41.387059, 'lon': 2.160146},\n",
       " {'name': 'DelaCrem', 'lat': 41.387965, 'lon': 2.161961},\n",
       " {'name': 'Hq Barcelona', 'lat': 41.390995, 'lon': 2.157773}]"
      ]
     },
     "execution_count": 203,
     "metadata": {},
     "output_type": "execute_result"
    }
   ],
   "source": [
    "url_2 = f\"https://api.foursquare.com/v3/places/search?limit=5&near=Pamplona%2C%2096%2C%2008018%20Barcelona\"\n",
    "\n",
    "headers = {\n",
    "    \"accept\": \"application/json\",\n",
    "    \"Authorization\": token\n",
    "}\n",
    "\n",
    "response_2 = requests.get(url_2, headers=headers)\n",
    "response_2 = response_2.json()\n",
    "cofee_shop_names_2 = [extracting_from_one_element (element) for element in response_2[\"results\"]]\n",
    "cofee_shop_names_2"
   ]
  },
  {
   "cell_type": "markdown",
   "id": "d19904e8",
   "metadata": {},
   "source": [
    "# 4. Define a function that returns name, lat, long for starbucks OR restaurants AND for any given location"
   ]
  },
  {
   "cell_type": "code",
   "execution_count": 204,
   "id": "1fad5153",
   "metadata": {},
   "outputs": [
    {
     "data": {
      "text/plain": [
       "[{'name': 'Can Dendê', 'lat': 41.39836, 'lon': 2.198345},\n",
       " {'name': 'La Tavernícola', 'lat': 41.400358, 'lon': 2.197944},\n",
       " {'name': 'Little Fern', 'lat': 41.402328, 'lon': 2.197571},\n",
       " {'name': 'Parking Pizza', 'lat': 41.396301, 'lon': 2.174171},\n",
       " {'name': 'Casa Lolea', 'lat': 41.388833, 'lon': 2.177238},\n",
       " {'name': 'Funky Bakers', 'lat': 41.394916, 'lon': 2.172866},\n",
       " {'name': 'Forn Bertran', 'lat': 41.383552, 'lon': 2.194749},\n",
       " {'name': 'Bodega la Tinaja', 'lat': 41.384329, 'lon': 2.18309},\n",
       " {'name': 'El Xampanyet', 'lat': 41.384569, 'lon': 2.18178},\n",
       " {'name': 'Koy Shunka', 'lat': 41.385841, 'lon': 2.175345}]"
      ]
     },
     "execution_count": 204,
     "metadata": {},
     "output_type": "execute_result"
    }
   ],
   "source": [
    "import requests\n",
    "\n",
    "def foursquare_places(sb_or_restaurant, lat, lon):\n",
    "    if sb_or_restaurant.lower() == 'starbucks':\n",
    "        query = 'starbucks'\n",
    "    elif sb_or_restaurant.lower() == 'restaurant':\n",
    "        query = 'restaurant'\n",
    "    else:\n",
    "        return \"Invalid venue type. Supported types: 'starbucks' or 'restaurant'.\"\n",
    "\n",
    "    url = f\"https://api.foursquare.com/v3/places/search?query={query}&ll={lat}%2C{lon}\"\n",
    "\n",
    "    headers = {\n",
    "    \"accept\": \"application/json\",\n",
    "    \"Authorization\": token\n",
    "    }\n",
    "\n",
    "    response = requests.get(url, headers=headers)\n",
    "    data = response.json()\n",
    "        \n",
    "    get_names = [extracting_from_one_element (element) for element in data[\"results\"]]\n",
    "\n",
    "    return get_names\n",
    "\n",
    "\n",
    "place = 'restaurant'\n",
    "result = foursquare_places(place, lat, lon)\n",
    "result\n"
   ]
  },
  {
   "cell_type": "markdown",
   "id": "1836c1a1",
   "metadata": {},
   "source": [
    "# 5. Export it into data folder as a json: `data/coffe_shops.json`"
   ]
  },
  {
   "cell_type": "code",
   "execution_count": 205,
   "id": "7ac5f2a8",
   "metadata": {},
   "outputs": [],
   "source": [
    "with open('./data/coffee_shops', \"w\") as json_file:\n",
    "    json.dump(coffee_shop_names, json_file, indent=4)"
   ]
  },
  {
   "cell_type": "markdown",
   "id": "2d77e99d",
   "metadata": {},
   "source": [
    "# BONUS: load it into MongoDB in a collection named \"ironcoffee\" using pymongo"
   ]
  },
  {
   "cell_type": "code",
   "execution_count": 206,
   "id": "85b94955",
   "metadata": {},
   "outputs": [],
   "source": [
    "import pymongo\n",
    "client = pymongo.MongoClient(\"localhost:27017\")\n",
    "db = client[\"ironhack\"]\n",
    "c = db.get_collection(\"ironcofee\") \n",
    "\n",
    "for shop in coffee_shop_names:\n",
    "    c.insert_one(shop)"
   ]
  }
 ],
 "metadata": {
  "kernelspec": {
   "display_name": "Python 3",
   "language": "python",
   "name": "python3"
  },
  "language_info": {
   "codemirror_mode": {
    "name": "ipython",
    "version": 3
   },
   "file_extension": ".py",
   "mimetype": "text/x-python",
   "name": "python",
   "nbconvert_exporter": "python",
   "pygments_lexer": "ipython3",
   "version": "3.11.5"
  },
  "toc": {
   "base_numbering": 1,
   "nav_menu": {},
   "number_sections": true,
   "sideBar": true,
   "skip_h1_title": false,
   "title_cell": "Table of Contents",
   "title_sidebar": "Contents",
   "toc_cell": false,
   "toc_position": {},
   "toc_section_display": true,
   "toc_window_display": true
  }
 },
 "nbformat": 4,
 "nbformat_minor": 5
}
