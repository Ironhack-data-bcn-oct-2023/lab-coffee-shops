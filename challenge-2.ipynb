{
 "cells": [
  {
   "cell_type": "markdown",
   "id": "0809e785",
   "metadata": {},
   "source": [
    "# 1. Import the necessary libraries for you to be able to query 4square API"
   ]
  },
  {
   "cell_type": "code",
   "execution_count": 12,
   "id": "9b373771",
   "metadata": {},
   "outputs": [],
   "source": [
    "import requests\n",
    "import json\n",
    "import pandas as pd\n",
    "from getpass import getpass\n",
    "import folium\n",
    "import os\n",
    "from dotenv import load_dotenv\n",
    "load_dotenv() # load_env\n",
    "token = os.getenv(\"token\")"
   ]
  },
  {
   "cell_type": "code",
   "execution_count": 13,
   "id": "1d72f571",
   "metadata": {},
   "outputs": [
    {
     "name": "stdout",
     "output_type": "stream",
     "text": [
      "{\"results\":[{\"fsq_id\":\"5c4714533ba767002caedd2b\",\"categories\":[{\"id\":13302,\"name\":\"Mediterranean Restaurant\",\"short_name\":\"Mediterranean\",\"plural_name\":\"Mediterranean Restaurants\",\"icon\":{\"prefix\":\"https://ss3.4sqi.net/img/categories_v2/food/mediterranean_\",\"suffix\":\".png\"}}],\"chains\":[],\"closed_bucket\":\"VeryLikelyOpen\",\"distance\":179,\"geocodes\":{\"drop_off\":{\"latitude\":41.387677,\"longitude\":2.168101},\"main\":{\"latitude\":41.387526,\"longitude\":2.167989},\"roof\":{\"latitude\":41.387526,\"longitude\":2.167989}},\"link\":\"/v3/places/5c4714533ba767002caedd2b\",\"location\":{\"address\":\"Rambla Catalunya, 3\",\"admin_region\":\"Cataluña\",\"country\":\"ES\",\"cross_street\":\"\",\"formatted_address\":\"Rambla Catalunya, 3, 08007 Barcelona Catalunya\",\"locality\":\"Barcelona\",\"postcode\":\"08007\",\"region\":\"Catalunya\"},\"name\":\"Honest Greens Rambla Catalunya\",\"related_places\":{},\"timezone\":\"Europe/Madrid\"},{\"fsq_id\":\"4b71cd74f964a5204b5d2de3\",\"categories\":[{\"id\":17018,\"name\":\"Bookstore\",\"short_name\":\"Bookstore\",\"plural_name\":\"Bookstores\",\"icon\":{\"prefix\":\"https://ss3.4sqi.net/img/categories_v2/shops/bookstore_\",\"suffix\":\".png\"}}],\"chains\":[],\"closed_bucket\":\"LikelyOpen\",\"distance\":391,\"geocodes\":{\"main\":{\"latitude\":41.383572,\"longitude\":2.168847},\"roof\":{\"latitude\":41.383572,\"longitude\":2.168847}},\"link\":\"/v3/places/4b71cd74f964a5204b5d2de3\",\"location\":{\"address\":\"Carrer D'Elisabets, 6\",\"admin_region\":\"Cataluña\",\"country\":\"ES\",\"cross_street\":\"\",\"formatted_address\":\"Carrer D'Elisabets, 6, 08001 Barcelona Catalunya\",\"locality\":\"Barcelona\",\"postcode\":\"08001\",\"region\":\"Catalunya\"},\"name\":\"La Central del Raval\",\"related_places\":{\"children\":[{\"fsq_id\":\"5cd80cf92bf29b002d5bd7ff\",\"categories\":[{\"id\":13034,\"name\":\"Café\",\"short_name\":\"Café\",\"plural_name\":\"Cafés\",\"icon\":{\"prefix\":\"https://ss3.4sqi.net/img/categories_v2/food/cafe_\",\"suffix\":\".png\"}}],\"name\":\"Barcentral\"},{\"fsq_id\":\"5d20afcf7dc74200230ddc20\",\"categories\":[{\"id\":13046,\"name\":\"Ice Cream Parlor\",\"short_name\":\"Ice Cream\",\"plural_name\":\"Ice Cream Parlors\",\"icon\":{\"prefix\":\"https://ss3.4sqi.net/img/categories_v2/food/icecream_\",\"suffix\":\".png\"}},{\"id\":13065,\"name\":\"Restaurant\",\"short_name\":\"Restaurant\",\"plural_name\":\"Restaurants\",\"icon\":{\"prefix\":\"https://ss3.4sqi.net/img/categories_v2/food/default_\",\"suffix\":\".png\"}}],\"name\":\"Natas\"}]},\"timezone\":\"Europe/Madrid\"},{\"fsq_id\":\"4af1b973f964a52083e221e3\",\"categories\":[{\"id\":12082,\"name\":\"Organization\",\"short_name\":\"Organization\",\"plural_name\":\"Organizations\",\"icon\":{\"prefix\":\"https://ss3.4sqi.net/img/categories_v2/building/default_\",\"suffix\":\".png\"}}],\"chains\":[],\"closed_bucket\":\"VeryLikelyOpen\",\"distance\":442,\"geocodes\":{\"main\":{\"latitude\":41.38759,\"longitude\":2.175354},\"roof\":{\"latitude\":41.387574,\"longitude\":2.17532}},\"link\":\"/v3/places/4af1b973f964a52083e221e3\",\"location\":{\"address\":\"Calle Palau de la Música 4-6\",\"admin_region\":\"Cataluña\",\"country\":\"ES\",\"cross_street\":\"Sant Pere més Alt\",\"formatted_address\":\"Calle Palau de la Música 4-6 (Sant Pere més Alt), 08003 Barcelona Catalunya\",\"locality\":\"Barcelona\",\"postcode\":\"08003\",\"region\":\"Catalunya\"},\"name\":\"Palau de la Música Catalana\",\"related_places\":{\"children\":[]},\"timezone\":\"Europe/Madrid\"},{\"fsq_id\":\"567873b9498e9f35c38e192e\",\"categories\":[{\"id\":13003,\"name\":\"Bar\",\"short_name\":\"Bar\",\"plural_name\":\"Bars\",\"icon\":{\"prefix\":\"https://ss3.4sqi.net/img/categories_v2/nightlife/pub_\",\"suffix\":\".png\"}},{\"id\":13334,\"name\":\"Sandwich Spot\",\"short_name\":\"Sandwich Spot\",\"plural_name\":\"Sandwich Spots\",\"icon\":{\"prefix\":\"https://ss3.4sqi.net/img/categories_v2/food/deli_\",\"suffix\":\".png\"}}],\"chains\":[],\"closed_bucket\":\"VeryLikelyOpen\",\"distance\":449,\"geocodes\":{\"drop_off\":{\"latitude\":41.383013,\"longitude\":2.169958},\"main\":{\"latitude\":41.382918,\"longitude\":2.170022},\"roof\":{\"latitude\":41.382918,\"longitude\":2.170022}},\"link\":\"/v3/places/567873b9498e9f35c38e192e\",\"location\":{\"address\":\"Calle Pintor Fortuny, 15\",\"admin_region\":\"Cataluña\",\"country\":\"ES\",\"cross_street\":\"\",\"formatted_address\":\"Calle Pintor Fortuny, 15, 08001 Barcelona Catalunya\",\"locality\":\"Barcelona\",\"postcode\":\"08001\",\"region\":\"Catalunya\"},\"name\":\"Chivuo's\",\"related_places\":{},\"timezone\":\"Europe/Madrid\"},{\"fsq_id\":\"54859d75498ec850acd351e3\",\"categories\":[{\"id\":13347,\"name\":\"Tapas Restaurant\",\"short_name\":\"Tapas\",\"plural_name\":\"Tapas Restaurants\",\"icon\":{\"prefix\":\"https://ss3.4sqi.net/img/categories_v2/food/tapas_\",\"suffix\":\".png\"}}],\"chains\":[],\"closed_bucket\":\"VeryLikelyOpen\",\"distance\":589,\"geocodes\":{\"drop_off\":{\"latitude\":41.389892,\"longitude\":2.1641},\"main\":{\"latitude\":41.389977,\"longitude\":2.164035},\"roof\":{\"latitude\":41.389977,\"longitude\":2.164035}},\"link\":\"/v3/places/54859d75498ec850acd351e3\",\"location\":{\"address\":\"Carrer del Consell de Cent, 333\",\"admin_region\":\"Cataluña\",\"country\":\"ES\",\"cross_street\":\"\",\"formatted_address\":\"Carrer del Consell de Cent, 333, 08007 Barcelona Catalunya\",\"locality\":\"Barcelona\",\"postcode\":\"08007\",\"region\":\"Catalunya\"},\"name\":\"Vinitus\",\"related_places\":{},\"timezone\":\"Europe/Madrid\"},{\"fsq_id\":\"54b25f1b498ec7c488e87ba2\",\"categories\":[{\"id\":13302,\"name\":\"Mediterranean Restaurant\",\"short_name\":\"Mediterranean\",\"plural_name\":\"Mediterranean Restaurants\",\"icon\":{\"prefix\":\"https://ss3.4sqi.net/img/categories_v2/food/mediterranean_\",\"suffix\":\".png\"}},{\"id\":13347,\"name\":\"Tapas Restaurant\",\"short_name\":\"Tapas\",\"plural_name\":\"Tapas Restaurants\",\"icon\":{\"prefix\":\"https://ss3.4sqi.net/img/categories_v2/food/tapas_\",\"suffix\":\".png\"}}],\"chains\":[],\"closed_bucket\":\"VeryLikelyOpen\",\"distance\":621,\"geocodes\":{\"drop_off\":{\"latitude\":41.388786,\"longitude\":2.177259},\"main\":{\"latitude\":41.388833,\"longitude\":2.177238},\"roof\":{\"latitude\":41.388833,\"longitude\":2.177238}},\"link\":\"/v3/places/54b25f1b498ec7c488e87ba2\",\"location\":{\"address\":\"Sant Pere Mes Alt, 49\",\"admin_region\":\"Cataluña\",\"country\":\"ES\",\"cross_street\":\"\",\"formatted_address\":\"Sant Pere Mes Alt, 49, 08003 Barcelona Catalunya\",\"locality\":\"Barcelona\",\"postcode\":\"08003\",\"region\":\"Catalunya\"},\"name\":\"Casa Lolea\",\"related_places\":{},\"timezone\":\"Europe/Madrid\"},{\"fsq_id\":\"4adcda50f964a5202b4121e3\",\"categories\":[{\"id\":16026,\"name\":\"Monument\",\"short_name\":\"Monument\",\"plural_name\":\"Monuments\",\"icon\":{\"prefix\":\"https://ss3.4sqi.net/img/categories_v2/building/government_monument_\",\"suffix\":\".png\"}}],\"chains\":[],\"closed_bucket\":\"VeryLikelyOpen\",\"distance\":656,\"geocodes\":{\"main\":{\"latitude\":41.391163,\"longitude\":2.164659},\"roof\":{\"latitude\":41.391541,\"longitude\":2.165054}},\"link\":\"/v3/places/4adcda50f964a5202b4121e3\",\"location\":{\"address\":\"Passeig de Gràcia, 41\",\"admin_region\":\"Cataluña\",\"country\":\"ES\",\"formatted_address\":\"Passeig de Gràcia, 41, 08007 Barcelona Catalunya\",\"locality\":\"Barcelona\",\"postcode\":\"08007\",\"region\":\"Catalunya\"},\"name\":\"Casa Amatller\",\"related_places\":{\"children\":[{\"fsq_id\":\"557c759a498e77dcb801b322\",\"categories\":[{\"id\":13332,\"name\":\"Salad Restaurant\",\"short_name\":\"Salad\",\"plural_name\":\"Salad Restaurants\",\"icon\":{\"prefix\":\"https://ss3.4sqi.net/img/categories_v2/food/salad_\",\"suffix\":\".png\"}}],\"name\":\"Faborit\"}]},\"timezone\":\"Europe/Madrid\"},{\"fsq_id\":\"5fe48d008f10840861a54140\",\"categories\":[{\"id\":13003,\"name\":\"Bar\",\"short_name\":\"Bar\",\"plural_name\":\"Bars\",\"icon\":{\"prefix\":\"https://ss3.4sqi.net/img/categories_v2/nightlife/pub_\",\"suffix\":\".png\"}}],\"chains\":[],\"closed_bucket\":\"VeryLikelyOpen\",\"distance\":694,\"geocodes\":{\"main\":{\"latitude\":41.381243,\"longitude\":2.166841}},\"link\":\"/v3/places/5fe48d008f10840861a54140\",\"location\":{\"address\":\"Plaça D'Emili Vendrell, 1\",\"admin_region\":\"Cataluña\",\"country\":\"ES\",\"cross_street\":\"\",\"formatted_address\":\"Plaça D'Emili Vendrell, 1, 08001 Barcelona Catalunya\",\"locality\":\"Barcelona\",\"postcode\":\"08001\",\"region\":\"Catalunya\"},\"name\":\"Fat Schmuck\",\"related_places\":{},\"timezone\":\"Europe/Madrid\"},{\"fsq_id\":\"4b3bcb26f964a520497b25e3\",\"categories\":[{\"id\":13039,\"name\":\"Deli\",\"short_name\":\"Deli\",\"plural_name\":\"Delis\",\"icon\":{\"prefix\":\"https://ss3.4sqi.net/img/categories_v2/food/deli_\",\"suffix\":\".png\"}},{\"id\":13046,\"name\":\"Ice Cream Parlor\",\"short_name\":\"Ice Cream\",\"plural_name\":\"Ice Cream Parlors\",\"icon\":{\"prefix\":\"https://ss3.4sqi.net/img/categories_v2/food/icecream_\",\"suffix\":\".png\"}},{\"id\":13145,\"name\":\"Fast Food Restaurant\",\"short_name\":\"Fast Food\",\"plural_name\":\"Fast Food Restaurants\",\"icon\":{\"prefix\":\"https://ss3.4sqi.net/img/categories_v2/food/fastfood_\",\"suffix\":\".png\"}}],\"chains\":[],\"closed_bucket\":\"LikelyOpen\",\"distance\":733,\"geocodes\":{\"drop_off\":{\"latitude\":41.38316,\"longitude\":2.177329},\"main\":{\"latitude\":41.383184,\"longitude\":2.177312},\"roof\":{\"latitude\":41.383184,\"longitude\":2.177312}},\"link\":\"/v3/places/4b3bcb26f964a520497b25e3\",\"location\":{\"address\":\"Llibreteria, 7\",\"admin_region\":\"Cataluña\",\"country\":\"ES\",\"formatted_address\":\"Llibreteria, 7, 08002 Barcelona Catalunya\",\"locality\":\"Barcelona\",\"postcode\":\"08002\",\"region\":\"Catalunya\"},\"name\":\"Gelaaati Di Marco\",\"related_places\":{},\"timezone\":\"Europe/Madrid\"},{\"fsq_id\":\"6188dad44d2e82263ebc56b1\",\"categories\":[{\"id\":13034,\"name\":\"Café\",\"short_name\":\"Café\",\"plural_name\":\"Cafés\",\"icon\":{\"prefix\":\"https://ss3.4sqi.net/img/categories_v2/food/cafe_\",\"suffix\":\".png\"}},{\"id\":13039,\"name\":\"Deli\",\"short_name\":\"Deli\",\"plural_name\":\"Delis\",\"icon\":{\"prefix\":\"https://ss3.4sqi.net/img/categories_v2/food/deli_\",\"suffix\":\".png\"}}],\"chains\":[],\"closed_bucket\":\"VeryLikelyOpen\",\"distance\":910,\"geocodes\":{\"drop_off\":{\"latitude\":41.394919,\"longitude\":2.172901},\"main\":{\"latitude\":41.394916,\"longitude\":2.172866},\"roof\":{\"latitude\":41.394916,\"longitude\":2.172866}},\"link\":\"/v3/places/6188dad44d2e82263ebc56b1\",\"location\":{\"address\":\"Carrer de la Diputació, 347\",\"admin_region\":\"Cataluña\",\"country\":\"ES\",\"cross_street\":\"\",\"formatted_address\":\"Carrer de la Diputació, 347, 08009 Barcelona Catalunya\",\"locality\":\"Barcelona\",\"postcode\":\"08009\",\"region\":\"Catalunya\"},\"name\":\"Funky Bakers\",\"related_places\":{},\"timezone\":\"Europe/Madrid\"}],\"context\":{\"geo_bounds\":{\"circle\":{\"center\":{\"latitude\":41.387,\"longitude\":2.1701},\"radius\":22000}}}}\n"
     ]
    }
   ],
   "source": [
    "url = \"https://api.foursquare.com/v3/places/search\"\n",
    "\n",
    "headers = {\n",
    "    \"accept\": \"application/json\",\n",
    "    \"Authorization\": token\n",
    "}\n",
    "\n",
    "response = requests.get(url, headers=headers)\n",
    "\n",
    "print(response.text)"
   ]
  },
  {
   "cell_type": "markdown",
   "id": "e94dce92",
   "metadata": {},
   "source": [
    "# 2. Get names and location of the 10 coffee places by passing Ironhack as your location"
   ]
  },
  {
   "cell_type": "code",
   "execution_count": 71,
   "id": "710374fb",
   "metadata": {},
   "outputs": [
    {
     "data": {
      "text/html": [
       "<div>\n",
       "<style scoped>\n",
       "    .dataframe tbody tr th:only-of-type {\n",
       "        vertical-align: middle;\n",
       "    }\n",
       "\n",
       "    .dataframe tbody tr th {\n",
       "        vertical-align: top;\n",
       "    }\n",
       "\n",
       "    .dataframe thead th {\n",
       "        text-align: right;\n",
       "    }\n",
       "</style>\n",
       "<table border=\"1\" class=\"dataframe\">\n",
       "  <thead>\n",
       "    <tr style=\"text-align: right;\">\n",
       "      <th></th>\n",
       "      <th>name</th>\n",
       "      <th>location</th>\n",
       "    </tr>\n",
       "  </thead>\n",
       "  <tbody>\n",
       "    <tr>\n",
       "      <th>0</th>\n",
       "      <td>SKYE Coffee Co</td>\n",
       "      <td>Calle Pamplona, 88</td>\n",
       "    </tr>\n",
       "    <tr>\n",
       "      <th>1</th>\n",
       "      <td>Three Marks Coffee</td>\n",
       "      <td>Ausiàs Marc, 151</td>\n",
       "    </tr>\n",
       "    <tr>\n",
       "      <th>2</th>\n",
       "      <td>El Cafè Blau</td>\n",
       "      <td>Casp, 192</td>\n",
       "    </tr>\n",
       "    <tr>\n",
       "      <th>3</th>\n",
       "      <td>El Bar</td>\n",
       "      <td>Ribes, 46</td>\n",
       "    </tr>\n",
       "    <tr>\n",
       "      <th>4</th>\n",
       "      <td>Eva-2</td>\n",
       "      <td>Bolivia, 21</td>\n",
       "    </tr>\n",
       "    <tr>\n",
       "      <th>5</th>\n",
       "      <td>Granja Mabel</td>\n",
       "      <td>Marina, 114-116</td>\n",
       "    </tr>\n",
       "    <tr>\n",
       "      <th>6</th>\n",
       "      <td>Espacio 88</td>\n",
       "      <td>Carrer Pamplona, 88</td>\n",
       "    </tr>\n",
       "    <tr>\n",
       "      <th>7</th>\n",
       "      <td>Cantina Restobar</td>\n",
       "      <td>Marina, 164</td>\n",
       "    </tr>\n",
       "    <tr>\n",
       "      <th>8</th>\n",
       "      <td>De Pa i Xocolata</td>\n",
       "      <td>Carrer de la Marina, 92</td>\n",
       "    </tr>\n",
       "    <tr>\n",
       "      <th>9</th>\n",
       "      <td>La Rourera</td>\n",
       "      <td>Gran Vía de Les Corts Catalanes, 792</td>\n",
       "    </tr>\n",
       "  </tbody>\n",
       "</table>\n",
       "</div>"
      ],
      "text/plain": [
       "                 name                              location\n",
       "0      SKYE Coffee Co                    Calle Pamplona, 88\n",
       "1  Three Marks Coffee                      Ausiàs Marc, 151\n",
       "2        El Cafè Blau                             Casp, 192\n",
       "3              El Bar                             Ribes, 46\n",
       "4               Eva-2                           Bolivia, 21\n",
       "5        Granja Mabel                       Marina, 114-116\n",
       "6          Espacio 88                   Carrer Pamplona, 88\n",
       "7    Cantina Restobar                           Marina, 164\n",
       "8    De Pa i Xocolata               Carrer de la Marina, 92\n",
       "9          La Rourera  Gran Vía de Les Corts Catalanes, 792"
      ]
     },
     "execution_count": 71,
     "metadata": {},
     "output_type": "execute_result"
    }
   ],
   "source": [
    "lat_ih = 41.3977461\n",
    "lon_ih = 2.187674417\n",
    "\n",
    "def requests_for_foursquare (query, lat, lon, radius=500, limit=1):\n",
    "\n",
    "    url = f\"https://api.foursquare.com/v3/places/search?query={query}&ll={lat}%2C{lon}&radius={radius}&limit={limit}\"\n",
    "\n",
    "    headers = {\n",
    "        \"accept\": \"application/json\",\n",
    "        \"Authorization\": token\n",
    "    }\n",
    "    \n",
    "    try:\n",
    "        return requests.get(url, headers=headers).json()\n",
    "    except:\n",
    "        print(\"no :(\")\n",
    "\n",
    "\n",
    "res = requests_for_foursquare(\"coffee\", lat_ih, lon_ih, limit = 10)\n",
    "\n",
    "\n",
    "names = [(res[\"results\"][i][\"name\"]) for i in range(10)]\n",
    "location = [(res[\"results\"][i][\"location\"][\"address\"]) for i in range(10)]\n",
    "new_dict = {}\n",
    "new_dict[\"name\"] = names\n",
    "new_dict[\"location\"] = location\n",
    "df = pd.DataFrame(new_dict)\n",
    "df"
   ]
  },
  {
   "cell_type": "markdown",
   "id": "941b5dbf",
   "metadata": {},
   "source": [
    "# 3. Now get the 5 CLOSEST coffe places. Make use of params: limit, near?"
   ]
  },
  {
   "cell_type": "code",
   "execution_count": 48,
   "id": "fda8ddff",
   "metadata": {},
   "outputs": [
    {
     "data": {
      "text/html": [
       "<div>\n",
       "<style scoped>\n",
       "    .dataframe tbody tr th:only-of-type {\n",
       "        vertical-align: middle;\n",
       "    }\n",
       "\n",
       "    .dataframe tbody tr th {\n",
       "        vertical-align: top;\n",
       "    }\n",
       "\n",
       "    .dataframe thead th {\n",
       "        text-align: right;\n",
       "    }\n",
       "</style>\n",
       "<table border=\"1\" class=\"dataframe\">\n",
       "  <thead>\n",
       "    <tr style=\"text-align: right;\">\n",
       "      <th></th>\n",
       "      <th>name</th>\n",
       "      <th>location</th>\n",
       "    </tr>\n",
       "  </thead>\n",
       "  <tbody>\n",
       "    <tr>\n",
       "      <th>0</th>\n",
       "      <td>SKYE Coffee Co</td>\n",
       "      <td>Calle Pamplona, 88</td>\n",
       "    </tr>\n",
       "    <tr>\n",
       "      <th>1</th>\n",
       "      <td>Three Marks Coffee</td>\n",
       "      <td>Ausiàs Marc, 151</td>\n",
       "    </tr>\n",
       "    <tr>\n",
       "      <th>2</th>\n",
       "      <td>El Cafè Blau</td>\n",
       "      <td>Casp, 192</td>\n",
       "    </tr>\n",
       "    <tr>\n",
       "      <th>3</th>\n",
       "      <td>El Bar</td>\n",
       "      <td>Ribes, 46</td>\n",
       "    </tr>\n",
       "    <tr>\n",
       "      <th>4</th>\n",
       "      <td>Eva-2</td>\n",
       "      <td>Bolivia, 21</td>\n",
       "    </tr>\n",
       "  </tbody>\n",
       "</table>\n",
       "</div>"
      ],
      "text/plain": [
       "                 name            location\n",
       "0      SKYE Coffee Co  Calle Pamplona, 88\n",
       "1  Three Marks Coffee    Ausiàs Marc, 151\n",
       "2        El Cafè Blau           Casp, 192\n",
       "3              El Bar           Ribes, 46\n",
       "4               Eva-2         Bolivia, 21"
      ]
     },
     "execution_count": 48,
     "metadata": {},
     "output_type": "execute_result"
    }
   ],
   "source": [
    "res = requests_for_foursquare(\"coffee\", lat_ih, lon_ih, limit = 20)\n",
    "\n",
    "names = [(res[\"results\"][i][\"name\"]) for i in range(5)]\n",
    "location = [(res[\"results\"][i][\"location\"][\"address\"]) for i in range(5)]\n",
    "new_dict = {}\n",
    "new_dict[\"name\"] = names\n",
    "new_dict[\"location\"] = location\n",
    "closedf = pd.DataFrame(new_dict)\n",
    "closedf"
   ]
  },
  {
   "cell_type": "markdown",
   "id": "d19904e8",
   "metadata": {},
   "source": [
    "# 4. Define a function that returns name, lat, long for starbucks OR restaurants AND for any given location"
   ]
  },
  {
   "cell_type": "code",
   "execution_count": 76,
   "id": "1fad5153",
   "metadata": {},
   "outputs": [
    {
     "data": {
      "text/plain": [
       "[{'name': 'Honest Greens Rambla Catalunya', 'lat': 41.387526, 'lng': 2.167989},\n",
       " {'name': 'Ciutat Comtal', 'lat': 41.388858, 'lng': 2.166857},\n",
       " {'name': \"Chivuo's\", 'lat': 41.382918, 'lng': 2.170022},\n",
       " {'name': 'Koy Shunka', 'lat': 41.385841, 'lng': 2.175345},\n",
       " {'name': 'Vinitus', 'lat': 41.389977, 'lng': 2.164035},\n",
       " {'name': 'Casa Lolea', 'lat': 41.388833, 'lng': 2.177238},\n",
       " {'name': 'La Alcoba Azul', 'lat': 41.382897, 'lng': 2.175509},\n",
       " {'name': 'La Flauta', 'lat': 41.386876, 'lng': 2.161108},\n",
       " {'name': 'Reserva Ibérica', 'lat': 41.390783, 'lng': 2.163465},\n",
       " {'name': 'Funky Bakers', 'lat': 41.394916, 'lng': 2.172866}]"
      ]
     },
     "execution_count": 76,
     "metadata": {},
     "output_type": "execute_result"
    }
   ],
   "source": [
    "def foursquare_places (venue):\n",
    "\n",
    "    endpoint = f'https://api.foursquare.com/v3/places/search?query={venue}'\n",
    "    headers = {\n",
    "        \"accept\": \"application/json\",\n",
    "        \"Authorization\": token\n",
    "    }\n",
    "    try:\n",
    "        response = requests.get(endpoint, headers=headers)\n",
    "        data = response.json()\n",
    "        data = data['results']\n",
    "        results = []\n",
    "        for i in data:\n",
    "            name = i['name']\n",
    "            location = i['geocodes']['main']\n",
    "            lat = location.get('latitude')\n",
    "            lng = location.get('longitude')\n",
    "            results.append({\n",
    "                'name': name,\n",
    "                'lat': lat,\n",
    "                'lng': lng\n",
    "            })\n",
    "        return results\n",
    "    except:\n",
    "        print(\"Error:\")\n",
    "        return []\n",
    "\n",
    "\n",
    "foursquare_places(\"restaurant\")"
   ]
  },
  {
   "cell_type": "markdown",
   "id": "1836c1a1",
   "metadata": {},
   "source": [
    "# 5. Export it into data folder as a json: `data/coffe_shops.json`"
   ]
  },
  {
   "cell_type": "code",
   "execution_count": 80,
   "id": "7ac5f2a8",
   "metadata": {},
   "outputs": [],
   "source": [
    "! mkdir data\n",
    "df.to_json(\"data/coffee_shops.json\", index=False)"
   ]
  },
  {
   "cell_type": "markdown",
   "id": "2d77e99d",
   "metadata": {},
   "source": [
    "# BONUS: load it into MongoDB in a collection named \"ironcoffee\" using pymongo"
   ]
  },
  {
   "cell_type": "code",
   "execution_count": null,
   "id": "85b94955",
   "metadata": {},
   "outputs": [],
   "source": [
    "# your code here"
   ]
  }
 ],
 "metadata": {
  "kernelspec": {
   "display_name": "ironhack",
   "language": "python",
   "name": "python3"
  },
  "language_info": {
   "codemirror_mode": {
    "name": "ipython",
    "version": 3
   },
   "file_extension": ".py",
   "mimetype": "text/x-python",
   "name": "python",
   "nbconvert_exporter": "python",
   "pygments_lexer": "ipython3",
   "version": "3.11.5"
  },
  "toc": {
   "base_numbering": 1,
   "nav_menu": {},
   "number_sections": true,
   "sideBar": true,
   "skip_h1_title": false,
   "title_cell": "Table of Contents",
   "title_sidebar": "Contents",
   "toc_cell": false,
   "toc_position": {},
   "toc_section_display": true,
   "toc_window_display": true
  }
 },
 "nbformat": 4,
 "nbformat_minor": 5
}
