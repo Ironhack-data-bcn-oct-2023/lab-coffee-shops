{
 "cells": [
  {
   "cell_type": "markdown",
   "id": "0809e785",
   "metadata": {},
   "source": [
    "# 1. Import the necessary libraries for you to be able to query 4square API"
   ]
  },
  {
   "cell_type": "code",
   "execution_count": 2,
   "id": "9b373771",
   "metadata": {},
   "outputs": [],
   "source": [
    "import requests\n",
    "import json\n",
    "import pandas as pd\n",
    "from getpass import getpass\n",
    "import folium\n",
    "import os\n",
    "from dotenv import load_dotenv\n",
    "from pymongo import MongoClient\n",
    "\n"
   ]
  },
  {
   "cell_type": "code",
   "execution_count": 9,
   "metadata": {},
   "outputs": [],
   "source": [
    "token = os.getenv(\"token\")"
   ]
  },
  {
   "cell_type": "markdown",
   "id": "e94dce92",
   "metadata": {},
   "source": [
    "# 2. Get names and location of the 10 coffee places by passing Ironhack as your location"
   ]
  },
  {
   "cell_type": "code",
   "execution_count": 3,
   "id": "1d72f571",
   "metadata": {},
   "outputs": [],
   "source": [
    "lat = 41.3977461\n",
    "lon = 2.187674417"
   ]
  },
  {
   "cell_type": "code",
   "execution_count": 4,
   "metadata": {},
   "outputs": [],
   "source": [
    "def requests_for_foursquare(query, lat, lon, radius=500, limit=10):\n",
    "\n",
    "    url = f\"https://api.foursquare.com/v3/places/search?query={query}&ll={lat},{lon}&radius={radius}&limit={limit}\"\n",
    "\n",
    "    headers = {\n",
    "        \"accept\": \"application/json\",\n",
    "        \"Authorization\": token\n",
    "    }\n",
    "    \n",
    "    try:\n",
    "        return requests.get(url, headers=headers).json()\n",
    "    except Exception as e:\n",
    "        print(\"Error:\", e)\n",
    "        return None\n",
    "\n",
    "\n",
    "res = requests_for_foursquare(\"coffee\", lat, lon, radius=500, limit=10)"
   ]
  },
  {
   "cell_type": "code",
   "execution_count": 6,
   "metadata": {},
   "outputs": [
    {
     "data": {
      "text/plain": [
       "{'message': 'Invalid request token.'}"
      ]
     },
     "execution_count": 6,
     "metadata": {},
     "output_type": "execute_result"
    }
   ],
   "source": [
    "res"
   ]
  },
  {
   "cell_type": "code",
   "execution_count": 5,
   "metadata": {},
   "outputs": [
    {
     "ename": "KeyError",
     "evalue": "'results'",
     "output_type": "error",
     "traceback": [
      "\u001b[1;31m---------------------------------------------------------------------------\u001b[0m",
      "\u001b[1;31mKeyError\u001b[0m                                  Traceback (most recent call last)",
      "\u001b[1;32mc:\\Users\\Felix\\Documents\\Ironhack\\mysql\\lab-coffee-shops\\challenge-2.ipynb Cell 7\u001b[0m line \u001b[0;36m1\n\u001b[1;32m----> <a href='vscode-notebook-cell:/c%3A/Users/Felix/Documents/Ironhack/mysql/lab-coffee-shops/challenge-2.ipynb#W6sZmlsZQ%3D%3D?line=0'>1</a>\u001b[0m names \u001b[39m=\u001b[39m [(res[\u001b[39m\"\u001b[39;49m\u001b[39mresults\u001b[39;49m\u001b[39m\"\u001b[39;49m][i][\u001b[39m\"\u001b[39;49m\u001b[39mname\u001b[39;49m\u001b[39m\"\u001b[39;49m]) \u001b[39mfor\u001b[39;49;00m i \u001b[39min\u001b[39;49;00m \u001b[39mrange\u001b[39;49m(\u001b[39m10\u001b[39;49m)]\n\u001b[0;32m      <a href='vscode-notebook-cell:/c%3A/Users/Felix/Documents/Ironhack/mysql/lab-coffee-shops/challenge-2.ipynb#W6sZmlsZQ%3D%3D?line=1'>2</a>\u001b[0m location \u001b[39m=\u001b[39m [(res[\u001b[39m\"\u001b[39m\u001b[39mresults\u001b[39m\u001b[39m\"\u001b[39m][i][\u001b[39m\"\u001b[39m\u001b[39mlocation\u001b[39m\u001b[39m\"\u001b[39m][\u001b[39m\"\u001b[39m\u001b[39maddress\u001b[39m\u001b[39m\"\u001b[39m]) \u001b[39mfor\u001b[39;00m i \u001b[39min\u001b[39;00m \u001b[39mrange\u001b[39m(\u001b[39m10\u001b[39m)]\n\u001b[0;32m      <a href='vscode-notebook-cell:/c%3A/Users/Felix/Documents/Ironhack/mysql/lab-coffee-shops/challenge-2.ipynb#W6sZmlsZQ%3D%3D?line=2'>3</a>\u001b[0m new_dict \u001b[39m=\u001b[39m {}\n",
      "\u001b[1;32mc:\\Users\\Felix\\Documents\\Ironhack\\mysql\\lab-coffee-shops\\challenge-2.ipynb Cell 7\u001b[0m line \u001b[0;36m1\n\u001b[1;32m----> <a href='vscode-notebook-cell:/c%3A/Users/Felix/Documents/Ironhack/mysql/lab-coffee-shops/challenge-2.ipynb#W6sZmlsZQ%3D%3D?line=0'>1</a>\u001b[0m names \u001b[39m=\u001b[39m [(res[\u001b[39m\"\u001b[39;49m\u001b[39mresults\u001b[39;49m\u001b[39m\"\u001b[39;49m][i][\u001b[39m\"\u001b[39m\u001b[39mname\u001b[39m\u001b[39m\"\u001b[39m]) \u001b[39mfor\u001b[39;00m i \u001b[39min\u001b[39;00m \u001b[39mrange\u001b[39m(\u001b[39m10\u001b[39m)]\n\u001b[0;32m      <a href='vscode-notebook-cell:/c%3A/Users/Felix/Documents/Ironhack/mysql/lab-coffee-shops/challenge-2.ipynb#W6sZmlsZQ%3D%3D?line=1'>2</a>\u001b[0m location \u001b[39m=\u001b[39m [(res[\u001b[39m\"\u001b[39m\u001b[39mresults\u001b[39m\u001b[39m\"\u001b[39m][i][\u001b[39m\"\u001b[39m\u001b[39mlocation\u001b[39m\u001b[39m\"\u001b[39m][\u001b[39m\"\u001b[39m\u001b[39maddress\u001b[39m\u001b[39m\"\u001b[39m]) \u001b[39mfor\u001b[39;00m i \u001b[39min\u001b[39;00m \u001b[39mrange\u001b[39m(\u001b[39m10\u001b[39m)]\n\u001b[0;32m      <a href='vscode-notebook-cell:/c%3A/Users/Felix/Documents/Ironhack/mysql/lab-coffee-shops/challenge-2.ipynb#W6sZmlsZQ%3D%3D?line=2'>3</a>\u001b[0m new_dict \u001b[39m=\u001b[39m {}\n",
      "\u001b[1;31mKeyError\u001b[0m: 'results'"
     ]
    }
   ],
   "source": [
    "names = [(res[\"results\"][i][\"name\"]) for i in range(10)]\n",
    "location = [(res[\"results\"][i][\"location\"][\"address\"]) for i in range(10)]\n",
    "new_dict = {}\n",
    "new_dict[\"name\"] = names\n",
    "new_dict[\"location\"] = location\n",
    "df_coffe_shop = pd.DataFrame(new_dict)\n",
    "df_coffe_shop"
   ]
  },
  {
   "cell_type": "markdown",
   "id": "941b5dbf",
   "metadata": {},
   "source": [
    "# 3. Now get the 5 CLOSEST coffe places. Make use of params: limit, near?"
   ]
  },
  {
   "cell_type": "code",
   "execution_count": null,
   "metadata": {},
   "outputs": [],
   "source": [
    "lat = 41.3977461\n",
    "lon = 2.187674417"
   ]
  },
  {
   "cell_type": "code",
   "execution_count": 51,
   "id": "fda8ddff",
   "metadata": {},
   "outputs": [],
   "source": [
    "def requests_for_foursquare(query, lat, lon, limit=5):\n",
    "\n",
    "    url = f\"https://api.foursquare.com/v3/places/search?query={query}&ll={lat},{lon}&limit={limit}\"\n",
    "\n",
    "    headers = {\n",
    "        \"accept\": \"application/json\",\n",
    "        \"Authorization\": token\n",
    "    }\n",
    "    \n",
    "    try:\n",
    "        return requests.get(url, headers=headers).json()\n",
    "    except Exception as e:\n",
    "        print(\"Error:\", e)\n",
    "        return None\n",
    "\n",
    "\n",
    "coffee_shop = requests_for_foursquare(\"coffee\", lat, lon, limit=5)"
   ]
  },
  {
   "cell_type": "code",
   "execution_count": 67,
   "metadata": {},
   "outputs": [
    {
     "data": {
      "text/html": [
       "<div>\n",
       "<style scoped>\n",
       "    .dataframe tbody tr th:only-of-type {\n",
       "        vertical-align: middle;\n",
       "    }\n",
       "\n",
       "    .dataframe tbody tr th {\n",
       "        vertical-align: top;\n",
       "    }\n",
       "\n",
       "    .dataframe thead th {\n",
       "        text-align: right;\n",
       "    }\n",
       "</style>\n",
       "<table border=\"1\" class=\"dataframe\">\n",
       "  <thead>\n",
       "    <tr style=\"text-align: right;\">\n",
       "      <th></th>\n",
       "      <th>name</th>\n",
       "      <th>location</th>\n",
       "      <th>lat</th>\n",
       "      <th>lon</th>\n",
       "    </tr>\n",
       "  </thead>\n",
       "  <tbody>\n",
       "    <tr>\n",
       "      <th>0</th>\n",
       "      <td>SKYE Coffee Co</td>\n",
       "      <td>Calle Pamplona, 88</td>\n",
       "      <td>41.396937</td>\n",
       "      <td>2.191519</td>\n",
       "    </tr>\n",
       "    <tr>\n",
       "      <th>1</th>\n",
       "      <td>Three Marks Coffee</td>\n",
       "      <td>Ausiàs Marc, 151</td>\n",
       "      <td>41.397168</td>\n",
       "      <td>2.183123</td>\n",
       "    </tr>\n",
       "    <tr>\n",
       "      <th>2</th>\n",
       "      <td>El Cafè Blau</td>\n",
       "      <td>Casp, 192</td>\n",
       "      <td>41.398257</td>\n",
       "      <td>2.182922</td>\n",
       "    </tr>\n",
       "    <tr>\n",
       "      <th>3</th>\n",
       "      <td>El Bar</td>\n",
       "      <td>Ribes, 46</td>\n",
       "      <td>41.398897</td>\n",
       "      <td>2.183774</td>\n",
       "    </tr>\n",
       "    <tr>\n",
       "      <th>4</th>\n",
       "      <td>Eva-2</td>\n",
       "      <td>Bolivia, 21</td>\n",
       "      <td>41.401636</td>\n",
       "      <td>2.189006</td>\n",
       "    </tr>\n",
       "  </tbody>\n",
       "</table>\n",
       "</div>"
      ],
      "text/plain": [
       "                 name            location        lat       lon\n",
       "0      SKYE Coffee Co  Calle Pamplona, 88  41.396937  2.191519\n",
       "1  Three Marks Coffee    Ausiàs Marc, 151  41.397168  2.183123\n",
       "2        El Cafè Blau           Casp, 192  41.398257  2.182922\n",
       "3              El Bar           Ribes, 46  41.398897  2.183774\n",
       "4               Eva-2         Bolivia, 21  41.401636  2.189006"
      ]
     },
     "execution_count": 67,
     "metadata": {},
     "output_type": "execute_result"
    }
   ],
   "source": [
    "names = [(res[\"results\"][i][\"name\"]) for i in range(5)]\n",
    "location = [(res[\"results\"][i][\"location\"][\"address\"]) for i in range(5)]\n",
    "lat = [(res[\"results\"][i][\"geocodes\"][\"main\"][\"latitude\"]) for i in range (5)]\n",
    "lon = [(res[\"results\"][i][\"geocodes\"][\"main\"][\"longitude\"]) for i in range (5)]\n",
    "new_dict = {}\n",
    "new_dict[\"name\"] = names\n",
    "new_dict[\"location\"] = location\n",
    "new_dict[\"lat\"] = lat\n",
    "new_dict[\"lon\"] = lon\n",
    "\n",
    "coffee_shops = pd.DataFrame(new_dict)\n",
    "coffee_shops"
   ]
  },
  {
   "cell_type": "markdown",
   "id": "d19904e8",
   "metadata": {},
   "source": [
    "# 4. Define a function that returns name, lat, long for starbucks OR restaurants AND for any given location"
   ]
  },
  {
   "cell_type": "code",
   "execution_count": 10,
   "metadata": {},
   "outputs": [],
   "source": [
    "def foursquare_places(venue, token):\n",
    "    endpoint = f'https://api.foursquare.com/v3/places/search?query={venue}'\n",
    "\n",
    "    headers = {\n",
    "        \"accept\": \"application/json\",\n",
    "        \"Authorization\": token\n",
    "    }\n",
    "\n",
    "    try:\n",
    "        response = requests.get(endpoint, headers=headers)\n",
    "        response.raise_for_status()  # Check for any errors in the response\n",
    "        data = response.json()\n",
    "        venues = data['results']\n",
    "        results = []\n",
    "        for venue in venues:\n",
    "            name = venue['name']\n",
    "            location = venue['geocodes']['main']\n",
    "            lat = location.get('latitude')\n",
    "            lng = location.get('longitude')\n",
    "            results.append({\n",
    "                'name': name,\n",
    "                'lat': lat,\n",
    "                'lng': lng\n",
    "            })\n",
    "        return results\n",
    "    except requests.exceptions.RequestException as e:\n",
    "        print(f\"Error: {e}\")\n",
    "        return []\n",
    "    \n",
    "def export_to_json(results, output_directory, output_file):\n",
    "    try:\n",
    "        full_file_path = os.path.join(output_directory, output_file)\n",
    "        os.makedirs(output_directory, exist_ok=True)\n",
    "        with open(full_file_path, 'w') as json_file:\n",
    "            json.dump(results, json_file, indent=4)\n",
    "        print(f\"Data exported to '{full_file_path}'\")\n",
    "        return True\n",
    "    except Exception as e:\n",
    "        print(f\"Error: {e}\")\n",
    "        return False"
   ]
  },
  {
   "cell_type": "markdown",
   "id": "1836c1a1",
   "metadata": {},
   "source": [
    "# 5. Export it into data folder as a json: `data/coffe_shops.json`"
   ]
  },
  {
   "cell_type": "code",
   "execution_count": 11,
   "metadata": {},
   "outputs": [
    {
     "name": "stdout",
     "output_type": "stream",
     "text": [
      "Data exported to 'data/coffe_shops.json'\n"
     ]
    }
   ],
   "source": [
    "results = foursquare_places(\"caffe\", token)\n",
    "output_directory = 'data/'\n",
    "output_file_name = 'coffe_shops.json'\n",
    "\n",
    "result = export_to_json(results, output_directory, output_file_name)\n"
   ]
  },
  {
   "cell_type": "markdown",
   "id": "2d77e99d",
   "metadata": {},
   "source": [
    "# BONUS: load it into MongoDB in a collection named \"ironcoffee\" using pymongo"
   ]
  },
  {
   "cell_type": "code",
   "execution_count": 18,
   "id": "85b94955",
   "metadata": {},
   "outputs": [],
   "source": [
    "client = MongoClient(\"mongodb://localhost:27017\")\n",
    "\n",
    "db = client[\"Ironhack\"]\n",
    "\n",
    "data_file = 'data/coffe_shops.json'\n",
    "\n",
    "collection_name = \"ironcoffee\"\n",
    "\n",
    "with open(data_file, 'r') as json_file:\n",
    "    data = json.load(json_file)\n",
    "\n",
    "collection = db[collection_name]\n",
    "collection.insert_many(data)\n",
    "\n",
    "client.close()\n"
   ]
  }
 ],
 "metadata": {
  "kernelspec": {
   "display_name": "ironhack",
   "language": "python",
   "name": "ironhack"
  },
  "language_info": {
   "codemirror_mode": {
    "name": "ipython",
    "version": 3
   },
   "file_extension": ".py",
   "mimetype": "text/x-python",
   "name": "python",
   "nbconvert_exporter": "python",
   "pygments_lexer": "ipython3",
   "version": "3.11.5"
  },
  "toc": {
   "base_numbering": 1,
   "nav_menu": {},
   "number_sections": true,
   "sideBar": true,
   "skip_h1_title": false,
   "title_cell": "Table of Contents",
   "title_sidebar": "Contents",
   "toc_cell": false,
   "toc_position": {},
   "toc_section_display": true,
   "toc_window_display": true
  }
 },
 "nbformat": 4,
 "nbformat_minor": 5
}
