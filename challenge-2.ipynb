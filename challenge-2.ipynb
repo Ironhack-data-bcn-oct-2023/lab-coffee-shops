{
 "cells": [
  {
   "cell_type": "markdown",
   "id": "0809e785",
   "metadata": {},
   "source": [
    "# 1. Import the necessary libraries for you to be able to query 4square API"
   ]
  },
  {
   "cell_type": "code",
   "execution_count": 69,
   "id": "9b373771",
   "metadata": {},
   "outputs": [],
   "source": [
    "import requests\n",
    "import json\n",
    "import pandas as pd\n",
    "from getpass import getpass\n",
    "import os\n",
    "from dotenv import load_dotenv\n",
    "load_dotenv()\n",
    "import time"
   ]
  },
  {
   "cell_type": "code",
   "execution_count": 70,
   "id": "63b4779d",
   "metadata": {},
   "outputs": [],
   "source": [
    "token = os.getenv(\"token\")"
   ]
  },
  {
   "cell_type": "code",
   "execution_count": 82,
   "id": "fc91d35e",
   "metadata": {},
   "outputs": [],
   "source": [
    "def gets_coordinates_from_string (where):\n",
    "    url_geocode = f\"https://geocode.xyz/{where}?json=1\"\n",
    "    res = requests.get(url_geocode)\n",
    "    \n",
    "    try:\n",
    "        return res.json()\n",
    "    \n",
    "    except:\n",
    "        time.sleep(2)\n",
    "        gets_coordinates_from_string (where)"
   ]
  },
  {
   "cell_type": "markdown",
   "id": "e94dce92",
   "metadata": {},
   "source": [
    "# 2. Get names and location of the 10 coffee places by passing Ironhack as your location"
   ]
  },
  {
   "cell_type": "code",
   "execution_count": 93,
   "id": "8b3422f6",
   "metadata": {},
   "outputs": [
    {
     "data": {
      "text/plain": [
       "{'standard': {'stnumber': '96',\n",
       "  'addresst': 'Pamplona',\n",
       "  'statename': 'Catalonia',\n",
       "  'postal': '08018',\n",
       "  'region': 'Catalonia',\n",
       "  'prov': 'ES',\n",
       "  'city': 'Barcelona',\n",
       "  'countryname': 'Spain',\n",
       "  'confidence': '0.8'},\n",
       " 'longt': '2.19035',\n",
       " 'alt': {},\n",
       " 'elevation': {},\n",
       " 'latt': '41.39780'}"
      ]
     },
     "execution_count": 93,
     "metadata": {},
     "output_type": "execute_result"
    }
   ],
   "source": [
    "res = gets_coordinates_from_string (\"Calle de Pamplona, 96, 08018 Barcelona, Spain\")\n",
    "res"
   ]
  },
  {
   "cell_type": "code",
   "execution_count": 94,
   "id": "2788a5db",
   "metadata": {},
   "outputs": [
    {
     "data": {
      "text/plain": [
       "'41.39780'"
      ]
     },
     "execution_count": 94,
     "metadata": {},
     "output_type": "execute_result"
    }
   ],
   "source": [
    "lat, lon = res[\"latt\"], res[\"longt\"]\n",
    "lat"
   ]
  },
  {
   "cell_type": "code",
   "execution_count": 160,
   "id": "4ecbacd5",
   "metadata": {},
   "outputs": [],
   "source": [
    "def requests_for_foursquare (query, lat, lon, radius=700, limit=1):\n",
    "\n",
    "    url = f\"https://api.foursquare.com/v3/places/search?query={query}&ll={lat}%2C{lon}&radius={radius}&limit={limit}\"\n",
    "\n",
    "    headers = {\n",
    "        \"accept\": \"application/json\",\n",
    "        \"Authorization\": token\n",
    "    }\n",
    "    \n",
    "    try:\n",
    "        return requests.get(url, headers=headers).json()\n",
    "    except:\n",
    "        print(\"no :(\")"
   ]
  },
  {
   "cell_type": "code",
   "execution_count": 161,
   "id": "a87b6e21",
   "metadata": {
    "scrolled": false
   },
   "outputs": [
    {
     "data": {
      "text/plain": [
       "2"
      ]
     },
     "execution_count": 161,
     "metadata": {},
     "output_type": "execute_result"
    }
   ],
   "source": [
    "res = requests_for_foursquare (\"coffee\", lat, lon, radius=600, limit=10)\n",
    "len(res)"
   ]
  },
  {
   "cell_type": "code",
   "execution_count": 119,
   "id": "5a7674c4",
   "metadata": {},
   "outputs": [],
   "source": [
    "def extracting_from_one_element (searched_place):\n",
    "\n",
    "    name = searched_place[\"name\"]\n",
    "    address = searched_place[\"location\"][\"address\"]\n",
    "    distance = searched_place[\"distance\"]\n",
    "    #zip_code = searched_place[\"location\"][\"postcode\"]\n",
    "    lat = searched_place[\"geocodes\"][\"main\"][\"latitude\"]\n",
    "    lon = searched_place[\"geocodes\"][\"main\"][\"longitude\"]\n",
    "\n",
    "    \n",
    "    small_dict = {\n",
    "    \"name\": name,\n",
    "    \"address\": address,\n",
    "    #\"zip_code\": zip_code,\n",
    "    \"distance\": distance,\n",
    "    \"lat\": lat,\n",
    "    \"lon\": lon\n",
    "}\n",
    "    return small_dict"
   ]
  },
  {
   "cell_type": "code",
   "execution_count": 120,
   "id": "feaf6968",
   "metadata": {},
   "outputs": [],
   "source": [
    "def transform_request_into_df (res):\n",
    "    list_of_dictionaries = [extracting_from_one_element (element) for element in res[\"results\"]]\n",
    "    return pd.DataFrame(list_of_dictionaries)"
   ]
  },
  {
   "cell_type": "code",
   "execution_count": 121,
   "id": "c1a7e0c4",
   "metadata": {},
   "outputs": [
    {
     "data": {
      "text/html": [
       "<div>\n",
       "<style scoped>\n",
       "    .dataframe tbody tr th:only-of-type {\n",
       "        vertical-align: middle;\n",
       "    }\n",
       "\n",
       "    .dataframe tbody tr th {\n",
       "        vertical-align: top;\n",
       "    }\n",
       "\n",
       "    .dataframe thead th {\n",
       "        text-align: right;\n",
       "    }\n",
       "</style>\n",
       "<table border=\"1\" class=\"dataframe\">\n",
       "  <thead>\n",
       "    <tr style=\"text-align: right;\">\n",
       "      <th></th>\n",
       "      <th>name</th>\n",
       "      <th>address</th>\n",
       "      <th>distance</th>\n",
       "      <th>lat</th>\n",
       "      <th>lon</th>\n",
       "    </tr>\n",
       "  </thead>\n",
       "  <tbody>\n",
       "    <tr>\n",
       "      <th>0</th>\n",
       "      <td>SKYE Coffee Co</td>\n",
       "      <td>Calle Pamplona, 88</td>\n",
       "      <td>135</td>\n",
       "      <td>41.396937</td>\n",
       "      <td>2.191519</td>\n",
       "    </tr>\n",
       "    <tr>\n",
       "      <th>1</th>\n",
       "      <td>Syra Coffee Poblenou</td>\n",
       "      <td>Calle de Pujades, 100</td>\n",
       "      <td>342</td>\n",
       "      <td>41.396518</td>\n",
       "      <td>2.194170</td>\n",
       "    </tr>\n",
       "    <tr>\n",
       "      <th>2</th>\n",
       "      <td>Espai Joliu</td>\n",
       "      <td>Carrer Badajoz, 95</td>\n",
       "      <td>399</td>\n",
       "      <td>41.398735</td>\n",
       "      <td>2.195069</td>\n",
       "    </tr>\n",
       "    <tr>\n",
       "      <th>3</th>\n",
       "      <td>Nømad Roaster's Home</td>\n",
       "      <td>Calle de Pujades, 95</td>\n",
       "      <td>450</td>\n",
       "      <td>41.397977</td>\n",
       "      <td>2.195589</td>\n",
       "    </tr>\n",
       "    <tr>\n",
       "      <th>4</th>\n",
       "      <td>Eva-2</td>\n",
       "      <td>Bolivia, 21</td>\n",
       "      <td>439</td>\n",
       "      <td>41.401636</td>\n",
       "      <td>2.189006</td>\n",
       "    </tr>\n",
       "    <tr>\n",
       "      <th>5</th>\n",
       "      <td>Mare Meva</td>\n",
       "      <td>C. de Bolívia, 31</td>\n",
       "      <td>487</td>\n",
       "      <td>41.402167</td>\n",
       "      <td>2.189879</td>\n",
       "    </tr>\n",
       "    <tr>\n",
       "      <th>6</th>\n",
       "      <td>Cafeteria Bar BAU</td>\n",
       "      <td>Pujades, 118</td>\n",
       "      <td>493</td>\n",
       "      <td>41.397524</td>\n",
       "      <td>2.196263</td>\n",
       "    </tr>\n",
       "    <tr>\n",
       "      <th>7</th>\n",
       "      <td>El Bar</td>\n",
       "      <td>Ribes, 46</td>\n",
       "      <td>572</td>\n",
       "      <td>41.398897</td>\n",
       "      <td>2.183774</td>\n",
       "    </tr>\n",
       "    <tr>\n",
       "      <th>8</th>\n",
       "      <td>Espacio 88</td>\n",
       "      <td>Carrer Pamplona, 88</td>\n",
       "      <td>124</td>\n",
       "      <td>41.396993</td>\n",
       "      <td>2.191171</td>\n",
       "    </tr>\n",
       "    <tr>\n",
       "      <th>9</th>\n",
       "      <td>Granja Mabel</td>\n",
       "      <td>Marina, 114-116</td>\n",
       "      <td>418</td>\n",
       "      <td>41.394816</td>\n",
       "      <td>2.187354</td>\n",
       "    </tr>\n",
       "  </tbody>\n",
       "</table>\n",
       "</div>"
      ],
      "text/plain": [
       "                   name                address  distance        lat       lon\n",
       "0        SKYE Coffee Co     Calle Pamplona, 88       135  41.396937  2.191519\n",
       "1  Syra Coffee Poblenou  Calle de Pujades, 100       342  41.396518  2.194170\n",
       "2           Espai Joliu     Carrer Badajoz, 95       399  41.398735  2.195069\n",
       "3  Nømad Roaster's Home   Calle de Pujades, 95       450  41.397977  2.195589\n",
       "4                 Eva-2            Bolivia, 21       439  41.401636  2.189006\n",
       "5             Mare Meva      C. de Bolívia, 31       487  41.402167  2.189879\n",
       "6     Cafeteria Bar BAU           Pujades, 118       493  41.397524  2.196263\n",
       "7                El Bar              Ribes, 46       572  41.398897  2.183774\n",
       "8            Espacio 88    Carrer Pamplona, 88       124  41.396993  2.191171\n",
       "9          Granja Mabel        Marina, 114-116       418  41.394816  2.187354"
      ]
     },
     "execution_count": 121,
     "metadata": {},
     "output_type": "execute_result"
    }
   ],
   "source": [
    "df =transform_request_into_df (res)\n",
    "df"
   ]
  },
  {
   "cell_type": "markdown",
   "id": "941b5dbf",
   "metadata": {},
   "source": [
    "# 3. Now get the 5 CLOSEST coffe places. Make use of params: limit, near?"
   ]
  },
  {
   "cell_type": "code",
   "execution_count": 122,
   "id": "fda8ddff",
   "metadata": {},
   "outputs": [
    {
     "data": {
      "text/html": [
       "<div>\n",
       "<style scoped>\n",
       "    .dataframe tbody tr th:only-of-type {\n",
       "        vertical-align: middle;\n",
       "    }\n",
       "\n",
       "    .dataframe tbody tr th {\n",
       "        vertical-align: top;\n",
       "    }\n",
       "\n",
       "    .dataframe thead th {\n",
       "        text-align: right;\n",
       "    }\n",
       "</style>\n",
       "<table border=\"1\" class=\"dataframe\">\n",
       "  <thead>\n",
       "    <tr style=\"text-align: right;\">\n",
       "      <th></th>\n",
       "      <th>name</th>\n",
       "      <th>address</th>\n",
       "      <th>distance</th>\n",
       "      <th>lat</th>\n",
       "      <th>lon</th>\n",
       "    </tr>\n",
       "  </thead>\n",
       "  <tbody>\n",
       "    <tr>\n",
       "      <th>8</th>\n",
       "      <td>Espacio 88</td>\n",
       "      <td>Carrer Pamplona, 88</td>\n",
       "      <td>124</td>\n",
       "      <td>41.396993</td>\n",
       "      <td>2.191171</td>\n",
       "    </tr>\n",
       "    <tr>\n",
       "      <th>0</th>\n",
       "      <td>SKYE Coffee Co</td>\n",
       "      <td>Calle Pamplona, 88</td>\n",
       "      <td>135</td>\n",
       "      <td>41.396937</td>\n",
       "      <td>2.191519</td>\n",
       "    </tr>\n",
       "    <tr>\n",
       "      <th>1</th>\n",
       "      <td>Syra Coffee Poblenou</td>\n",
       "      <td>Calle de Pujades, 100</td>\n",
       "      <td>342</td>\n",
       "      <td>41.396518</td>\n",
       "      <td>2.194170</td>\n",
       "    </tr>\n",
       "    <tr>\n",
       "      <th>2</th>\n",
       "      <td>Espai Joliu</td>\n",
       "      <td>Carrer Badajoz, 95</td>\n",
       "      <td>399</td>\n",
       "      <td>41.398735</td>\n",
       "      <td>2.195069</td>\n",
       "    </tr>\n",
       "    <tr>\n",
       "      <th>9</th>\n",
       "      <td>Granja Mabel</td>\n",
       "      <td>Marina, 114-116</td>\n",
       "      <td>418</td>\n",
       "      <td>41.394816</td>\n",
       "      <td>2.187354</td>\n",
       "    </tr>\n",
       "  </tbody>\n",
       "</table>\n",
       "</div>"
      ],
      "text/plain": [
       "                   name                address  distance        lat       lon\n",
       "8            Espacio 88    Carrer Pamplona, 88       124  41.396993  2.191171\n",
       "0        SKYE Coffee Co     Calle Pamplona, 88       135  41.396937  2.191519\n",
       "1  Syra Coffee Poblenou  Calle de Pujades, 100       342  41.396518  2.194170\n",
       "2           Espai Joliu     Carrer Badajoz, 95       399  41.398735  2.195069\n",
       "9          Granja Mabel        Marina, 114-116       418  41.394816  2.187354"
      ]
     },
     "execution_count": 122,
     "metadata": {},
     "output_type": "execute_result"
    }
   ],
   "source": [
    "#as we have the distance, we just need to sort by distance ascending and then get the head(5)\n",
    "\n",
    "closest_5 = df.sort_values('distance').head(5)\n",
    "closest_5"
   ]
  },
  {
   "cell_type": "markdown",
   "id": "d19904e8",
   "metadata": {},
   "source": [
    "# 4. Define a function that returns name, lat, long for starbucks OR restaurants AND for any given location"
   ]
  },
  {
   "cell_type": "code",
   "execution_count": 224,
   "id": "36f3cf1d",
   "metadata": {},
   "outputs": [],
   "source": [
    "# as nothing indicated I have fixed radius = 500m and limit the anwers to 5. \n",
    "\n",
    "def requests_for_foursquare (query, lat, lon, radius=700, limit=2):\n",
    "\n",
    "    url = f\"https://api.foursquare.com/v3/places/search?query={query}&ll={lat}%2C{lon}&radius={radius}&limit={limit}\"\n",
    "\n",
    "    headers = {\n",
    "        \"accept\": \"application/json\",\n",
    "        \"Authorization\": token\n",
    "    }\n",
    "    \n",
    "    try:\n",
    "        f4_answer = requests.get(url, headers=headers).json()\n",
    "    except:\n",
    "        print(\"no :(\")\n",
    "    \n",
    "    answer_list = []\n",
    "    answer = f4_answer[\"results\"]\n",
    "    \n",
    "    for element in answer:\n",
    "        \n",
    "        name = element[\"name\"]\n",
    "        address = element[\"location\"][\"address\"]\n",
    "        distance = element[\"distance\"]\n",
    "        lat = element[\"geocodes\"][\"main\"][\"latitude\"]\n",
    "        lon = element[\"geocodes\"][\"main\"][\"longitude\"]\n",
    "        \n",
    "        small_dict = {\n",
    "        \"name\": name,\n",
    "        \"address\": address,\n",
    "        \"distance\": distance,\n",
    "        \"lat\": lat,\n",
    "        \"lon\": lon}\n",
    "        \n",
    "        answer_list.append(small_dict)\n",
    "        \n",
    "    \n",
    "    df=pd.DataFrame(answer_list)\n",
    "    return df\n",
    "\n",
    "\n",
    "\n",
    "#list_of_dictionaries = [extracting_from_one_element (element) for element in res[\"results\"]]"
   ]
  },
  {
   "cell_type": "code",
   "execution_count": 225,
   "id": "2892fb4d",
   "metadata": {},
   "outputs": [
    {
     "data": {
      "text/plain": [
       "'2.19035'"
      ]
     },
     "execution_count": 225,
     "metadata": {},
     "output_type": "execute_result"
    }
   ],
   "source": [
    "lon"
   ]
  },
  {
   "cell_type": "code",
   "execution_count": 226,
   "id": "544c8460",
   "metadata": {
    "scrolled": false
   },
   "outputs": [],
   "source": [
    "df = requests_for_foursquare (\"coffee\", lat, lon, radius=600, limit=10)"
   ]
  },
  {
   "cell_type": "code",
   "execution_count": 223,
   "id": "0d7d1587",
   "metadata": {},
   "outputs": [
    {
     "data": {
      "text/html": [
       "<div>\n",
       "<style scoped>\n",
       "    .dataframe tbody tr th:only-of-type {\n",
       "        vertical-align: middle;\n",
       "    }\n",
       "\n",
       "    .dataframe tbody tr th {\n",
       "        vertical-align: top;\n",
       "    }\n",
       "\n",
       "    .dataframe thead th {\n",
       "        text-align: right;\n",
       "    }\n",
       "</style>\n",
       "<table border=\"1\" class=\"dataframe\">\n",
       "  <thead>\n",
       "    <tr style=\"text-align: right;\">\n",
       "      <th></th>\n",
       "      <th>name</th>\n",
       "      <th>address</th>\n",
       "      <th>distance</th>\n",
       "      <th>lat</th>\n",
       "      <th>lon</th>\n",
       "    </tr>\n",
       "  </thead>\n",
       "  <tbody>\n",
       "    <tr>\n",
       "      <th>0</th>\n",
       "      <td>SKYE Coffee Co</td>\n",
       "      <td>Calle Pamplona, 88</td>\n",
       "      <td>135</td>\n",
       "      <td>41.396937</td>\n",
       "      <td>2.191519</td>\n",
       "    </tr>\n",
       "    <tr>\n",
       "      <th>1</th>\n",
       "      <td>Syra Coffee Poblenou</td>\n",
       "      <td>Calle de Pujades, 100</td>\n",
       "      <td>342</td>\n",
       "      <td>41.396518</td>\n",
       "      <td>2.194170</td>\n",
       "    </tr>\n",
       "    <tr>\n",
       "      <th>2</th>\n",
       "      <td>Espai Joliu</td>\n",
       "      <td>Carrer Badajoz, 95</td>\n",
       "      <td>399</td>\n",
       "      <td>41.398735</td>\n",
       "      <td>2.195069</td>\n",
       "    </tr>\n",
       "    <tr>\n",
       "      <th>3</th>\n",
       "      <td>Nømad Roaster's Home</td>\n",
       "      <td>Calle de Pujades, 95</td>\n",
       "      <td>450</td>\n",
       "      <td>41.397977</td>\n",
       "      <td>2.195589</td>\n",
       "    </tr>\n",
       "    <tr>\n",
       "      <th>4</th>\n",
       "      <td>Eva-2</td>\n",
       "      <td>Bolivia, 21</td>\n",
       "      <td>439</td>\n",
       "      <td>41.401636</td>\n",
       "      <td>2.189006</td>\n",
       "    </tr>\n",
       "    <tr>\n",
       "      <th>5</th>\n",
       "      <td>Mare Meva</td>\n",
       "      <td>C. de Bolívia, 31</td>\n",
       "      <td>487</td>\n",
       "      <td>41.402167</td>\n",
       "      <td>2.189879</td>\n",
       "    </tr>\n",
       "    <tr>\n",
       "      <th>6</th>\n",
       "      <td>Cafeteria Bar BAU</td>\n",
       "      <td>Pujades, 118</td>\n",
       "      <td>493</td>\n",
       "      <td>41.397524</td>\n",
       "      <td>2.196263</td>\n",
       "    </tr>\n",
       "    <tr>\n",
       "      <th>7</th>\n",
       "      <td>El Bar</td>\n",
       "      <td>Ribes, 46</td>\n",
       "      <td>572</td>\n",
       "      <td>41.398897</td>\n",
       "      <td>2.183774</td>\n",
       "    </tr>\n",
       "    <tr>\n",
       "      <th>8</th>\n",
       "      <td>Espacio 88</td>\n",
       "      <td>Carrer Pamplona, 88</td>\n",
       "      <td>124</td>\n",
       "      <td>41.396993</td>\n",
       "      <td>2.191171</td>\n",
       "    </tr>\n",
       "    <tr>\n",
       "      <th>9</th>\n",
       "      <td>Granja Mabel</td>\n",
       "      <td>Marina, 114-116</td>\n",
       "      <td>418</td>\n",
       "      <td>41.394816</td>\n",
       "      <td>2.187354</td>\n",
       "    </tr>\n",
       "  </tbody>\n",
       "</table>\n",
       "</div>"
      ],
      "text/plain": [
       "                   name                address  distance        lat       lon\n",
       "0        SKYE Coffee Co     Calle Pamplona, 88       135  41.396937  2.191519\n",
       "1  Syra Coffee Poblenou  Calle de Pujades, 100       342  41.396518  2.194170\n",
       "2           Espai Joliu     Carrer Badajoz, 95       399  41.398735  2.195069\n",
       "3  Nømad Roaster's Home   Calle de Pujades, 95       450  41.397977  2.195589\n",
       "4                 Eva-2            Bolivia, 21       439  41.401636  2.189006\n",
       "5             Mare Meva      C. de Bolívia, 31       487  41.402167  2.189879\n",
       "6     Cafeteria Bar BAU           Pujades, 118       493  41.397524  2.196263\n",
       "7                El Bar              Ribes, 46       572  41.398897  2.183774\n",
       "8            Espacio 88    Carrer Pamplona, 88       124  41.396993  2.191171\n",
       "9          Granja Mabel        Marina, 114-116       418  41.394816  2.187354"
      ]
     },
     "execution_count": 223,
     "metadata": {},
     "output_type": "execute_result"
    }
   ],
   "source": [
    "df"
   ]
  },
  {
   "cell_type": "markdown",
   "id": "1836c1a1",
   "metadata": {},
   "source": [
    "# 5. Export it into data folder as a json: `data/coffe_shops.json`"
   ]
  },
  {
   "cell_type": "code",
   "execution_count": 119,
   "id": "7ac5f2a8",
   "metadata": {},
   "outputs": [],
   "source": [
    "\n",
    "closest_5.to_json('closest_5.json', orient='records', lines=True)"
   ]
  },
  {
   "cell_type": "markdown",
   "id": "2d77e99d",
   "metadata": {},
   "source": [
    "# BONUS: load it into MongoDB in a collection named \"ironcoffee\" using pymongo"
   ]
  },
  {
   "cell_type": "code",
   "execution_count": 116,
   "id": "85b94955",
   "metadata": {},
   "outputs": [
    {
     "data": {
      "text/plain": [
       "'C:\\\\PATRICIA\\\\Ironhack\\\\Laboratories\\\\week-4\\\\lab-coffee-shops'"
      ]
     },
     "execution_count": 116,
     "metadata": {},
     "output_type": "execute_result"
    }
   ],
   "source": [
    "pwd"
   ]
  },
  {
   "cell_type": "code",
   "execution_count": null,
   "id": "bc11fe35",
   "metadata": {},
   "outputs": [],
   "source": []
  }
 ],
 "metadata": {
  "kernelspec": {
   "display_name": "ironhack",
   "language": "python",
   "name": "ironhack"
  },
  "language_info": {
   "codemirror_mode": {
    "name": "ipython",
    "version": 3
   },
   "file_extension": ".py",
   "mimetype": "text/x-python",
   "name": "python",
   "nbconvert_exporter": "python",
   "pygments_lexer": "ipython3",
   "version": "3.11.5"
  },
  "toc": {
   "base_numbering": 1,
   "nav_menu": {},
   "number_sections": true,
   "sideBar": true,
   "skip_h1_title": false,
   "title_cell": "Table of Contents",
   "title_sidebar": "Contents",
   "toc_cell": false,
   "toc_position": {},
   "toc_section_display": true,
   "toc_window_display": true
  }
 },
 "nbformat": 4,
 "nbformat_minor": 5
}
