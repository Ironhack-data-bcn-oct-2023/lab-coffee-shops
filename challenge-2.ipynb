{
 "cells": [
  {
   "cell_type": "markdown",
   "id": "0809e785",
   "metadata": {},
   "source": [
    "# 1. Import the necessary libraries for you to be able to query 4square API"
   ]
  },
  {
   "cell_type": "code",
   "execution_count": 1,
   "id": "9b373771",
   "metadata": {},
   "outputs": [],
   "source": [
    "import requests\n",
    "import json\n",
    "import pandas as pd\n",
    "from getpass import getpass"
   ]
  },
  {
   "cell_type": "code",
   "execution_count": 3,
   "id": "30905ed3",
   "metadata": {},
   "outputs": [
    {
     "data": {
      "text/plain": [
       "True"
      ]
     },
     "execution_count": 3,
     "metadata": {},
     "output_type": "execute_result"
    }
   ],
   "source": [
    "import os\n",
    "from dotenv import load_dotenv\n",
    "load_dotenv()"
   ]
  },
  {
   "cell_type": "code",
   "execution_count": 6,
   "id": "fea504ed",
   "metadata": {},
   "outputs": [],
   "source": [
    "token = os.getenv(\"token\")"
   ]
  },
  {
   "cell_type": "markdown",
   "id": "e94dce92",
   "metadata": {},
   "source": [
    "# 2. Get names and location of the 10 coffee places by passing Ironhack as your location"
   ]
  },
  {
   "cell_type": "code",
   "execution_count": 50,
   "id": "1d72f571",
   "metadata": {},
   "outputs": [],
   "source": [
    "def requests_for_foursquare (query, lat, lon, radius=1000, limit=10):\n",
    "\n",
    "    url = f\"https://api.foursquare.com/v3/places/search?query={query}&ll={lat}%2C{lon}&radius={radius}&limit={limit}&sort=DISTANCE\"\n",
    "\n",
    "    headers = {\n",
    "        \"accept\": \"application/json\",\n",
    "        \"Authorization\": token\n",
    "    }\n",
    "    \n",
    "    try:\n",
    "        return requests.get(url, headers=headers).json()\n",
    "    except:\n",
    "        print(\"no :(\")"
   ]
  },
  {
   "cell_type": "code",
   "execution_count": 51,
   "id": "adb29615",
   "metadata": {},
   "outputs": [],
   "source": [
    "lat_ih = 41.3977461\n",
    "lon_ih = 2.187674417\n",
    "coffee_shops = requests_for_foursquare (\"coffee\", lat_ih, lon_ih, radius=500, limit=10)"
   ]
  },
  {
   "cell_type": "code",
   "execution_count": 54,
   "id": "47169f1a",
   "metadata": {},
   "outputs": [
    {
     "data": {
      "text/html": [
       "<div>\n",
       "<style scoped>\n",
       "    .dataframe tbody tr th:only-of-type {\n",
       "        vertical-align: middle;\n",
       "    }\n",
       "\n",
       "    .dataframe tbody tr th {\n",
       "        vertical-align: top;\n",
       "    }\n",
       "\n",
       "    .dataframe thead th {\n",
       "        text-align: right;\n",
       "    }\n",
       "</style>\n",
       "<table border=\"1\" class=\"dataframe\">\n",
       "  <thead>\n",
       "    <tr style=\"text-align: right;\">\n",
       "      <th></th>\n",
       "      <th>name</th>\n",
       "      <th>location</th>\n",
       "    </tr>\n",
       "  </thead>\n",
       "  <tbody>\n",
       "    <tr>\n",
       "      <th>0</th>\n",
       "      <td>Espacio 88</td>\n",
       "      <td>Carrer Pamplona, 88</td>\n",
       "    </tr>\n",
       "    <tr>\n",
       "      <th>1</th>\n",
       "      <td>SKYE Coffee Co</td>\n",
       "      <td>Calle Pamplona, 88</td>\n",
       "    </tr>\n",
       "    <tr>\n",
       "      <th>2</th>\n",
       "      <td>Granja Mabel</td>\n",
       "      <td>Marina, 114-116</td>\n",
       "    </tr>\n",
       "    <tr>\n",
       "      <th>3</th>\n",
       "      <td>Three Marks Coffee</td>\n",
       "      <td>Ausiàs Marc, 151</td>\n",
       "    </tr>\n",
       "    <tr>\n",
       "      <th>4</th>\n",
       "      <td>El Bar</td>\n",
       "      <td>Ribes, 46</td>\n",
       "    </tr>\n",
       "    <tr>\n",
       "      <th>5</th>\n",
       "      <td>El Cafè Blau</td>\n",
       "      <td>Casp, 192</td>\n",
       "    </tr>\n",
       "    <tr>\n",
       "      <th>6</th>\n",
       "      <td>Cantina Restobar</td>\n",
       "      <td>Marina, 164</td>\n",
       "    </tr>\n",
       "    <tr>\n",
       "      <th>7</th>\n",
       "      <td>Eva-2</td>\n",
       "      <td>Bolivia, 21</td>\n",
       "    </tr>\n",
       "    <tr>\n",
       "      <th>8</th>\n",
       "      <td>De Pa i Xocolata</td>\n",
       "      <td>Carrer de la Marina, 92</td>\n",
       "    </tr>\n",
       "    <tr>\n",
       "      <th>9</th>\n",
       "      <td>La Rourera</td>\n",
       "      <td>Gran Vía de Les Corts Catalanes, 792</td>\n",
       "    </tr>\n",
       "  </tbody>\n",
       "</table>\n",
       "</div>"
      ],
      "text/plain": [
       "                 name                              location\n",
       "0          Espacio 88                   Carrer Pamplona, 88\n",
       "1      SKYE Coffee Co                    Calle Pamplona, 88\n",
       "2        Granja Mabel                       Marina, 114-116\n",
       "3  Three Marks Coffee                      Ausiàs Marc, 151\n",
       "4              El Bar                             Ribes, 46\n",
       "5        El Cafè Blau                             Casp, 192\n",
       "6    Cantina Restobar                           Marina, 164\n",
       "7               Eva-2                           Bolivia, 21\n",
       "8    De Pa i Xocolata               Carrer de la Marina, 92\n",
       "9          La Rourera  Gran Vía de Les Corts Catalanes, 792"
      ]
     },
     "execution_count": 54,
     "metadata": {},
     "output_type": "execute_result"
    }
   ],
   "source": [
    "names = [(coffee_shops[\"results\"][i][\"name\"]) for i in range(10)]\n",
    "location = [(coffee_shops[\"results\"][i][\"location\"][\"address\"]) for i in range(10)]\n",
    "\n",
    "new_dict = {}\n",
    "new_dict[\"name\"] = names\n",
    "new_dict[\"location\"] = location\n",
    "coffee_shops = pd.DataFrame(new_dict)\n",
    "coffee_shops"
   ]
  },
  {
   "cell_type": "markdown",
   "id": "941b5dbf",
   "metadata": {},
   "source": [
    "# 3. Now get the 5 CLOSEST coffe places. Make use of params: limit, near?"
   ]
  },
  {
   "cell_type": "code",
   "execution_count": 36,
   "id": "fda8ddff",
   "metadata": {},
   "outputs": [],
   "source": [
    "res = requests_for_foursquare (\"coffee\", lat_ih, lon_ih, radius=500, limit=5)"
   ]
  },
  {
   "cell_type": "code",
   "execution_count": 37,
   "id": "2731103c",
   "metadata": {},
   "outputs": [
    {
     "data": {
      "text/html": [
       "<div>\n",
       "<style scoped>\n",
       "    .dataframe tbody tr th:only-of-type {\n",
       "        vertical-align: middle;\n",
       "    }\n",
       "\n",
       "    .dataframe tbody tr th {\n",
       "        vertical-align: top;\n",
       "    }\n",
       "\n",
       "    .dataframe thead th {\n",
       "        text-align: right;\n",
       "    }\n",
       "</style>\n",
       "<table border=\"1\" class=\"dataframe\">\n",
       "  <thead>\n",
       "    <tr style=\"text-align: right;\">\n",
       "      <th></th>\n",
       "      <th>name</th>\n",
       "      <th>distance</th>\n",
       "    </tr>\n",
       "  </thead>\n",
       "  <tbody>\n",
       "    <tr>\n",
       "      <th>0</th>\n",
       "      <td>Espacio 88</td>\n",
       "      <td>311</td>\n",
       "    </tr>\n",
       "    <tr>\n",
       "      <th>1</th>\n",
       "      <td>SKYE Coffee Co</td>\n",
       "      <td>320</td>\n",
       "    </tr>\n",
       "    <tr>\n",
       "      <th>2</th>\n",
       "      <td>Granja Mabel</td>\n",
       "      <td>327</td>\n",
       "    </tr>\n",
       "    <tr>\n",
       "      <th>3</th>\n",
       "      <td>Three Marks Coffee</td>\n",
       "      <td>354</td>\n",
       "    </tr>\n",
       "    <tr>\n",
       "      <th>4</th>\n",
       "      <td>El Bar</td>\n",
       "      <td>364</td>\n",
       "    </tr>\n",
       "  </tbody>\n",
       "</table>\n",
       "</div>"
      ],
      "text/plain": [
       "                 name  distance\n",
       "0          Espacio 88       311\n",
       "1      SKYE Coffee Co       320\n",
       "2        Granja Mabel       327\n",
       "3  Three Marks Coffee       354\n",
       "4              El Bar       364"
      ]
     },
     "execution_count": 37,
     "metadata": {},
     "output_type": "execute_result"
    }
   ],
   "source": [
    "names = [(res[\"results\"][i][\"name\"]) for i in range(5)]\n",
    "distance = [(res[\"results\"][i][\"distance\"]) for i in range(5)]\n",
    "\n",
    "new_dict = {}\n",
    "new_dict[\"name\"] = names\n",
    "new_dict[\"distance\"] = distance\n",
    "df = pd.DataFrame(new_dict)\n",
    "df"
   ]
  },
  {
   "cell_type": "markdown",
   "id": "d19904e8",
   "metadata": {},
   "source": [
    "# 4. Define a function that returns name, lat, long for starbucks OR restaurants AND for any given location"
   ]
  },
  {
   "cell_type": "code",
   "execution_count": 47,
   "id": "bdcd1b3a",
   "metadata": {},
   "outputs": [],
   "source": [
    "def foursquare_places (venue, coordinates):\n",
    "    \n",
    "    url = f\"https://api.foursquare.com/v3/places/search?query={venue}&ll={coordinates[0]}%2C{coordinates[1]}&radius=10000&limit={limit}&sort=DISTANCE\"\n",
    "\n",
    "    headers = {\n",
    "        \"accept\": \"application/json\",\n",
    "        \"Authorization\": token\n",
    "    }\n",
    "    \n",
    "    try:\n",
    "        res = requests.get(url, headers=headers).json()\n",
    "        names = [res[\"results\"][i][\"name\"] for i in range(limit)]\n",
    "        lat = [res[\"results\"][i][\"geocodes\"][\"main\"][\"latitude\"] for i in range(limit)]\n",
    "        lon = [res[\"results\"][i][\"geocodes\"][\"main\"][\"longitude\"] for i in range(limit)]\n",
    "\n",
    "        db = {}\n",
    "\n",
    "        db[\"name\"] = names\n",
    "        db[\"latitude\"] = lat\n",
    "        db[\"longitud\"] = lon\n",
    "\n",
    "        df = pd.DataFrame(db)\n",
    "        return df\n",
    "        \n",
    "    except:\n",
    "        print(\"no :(\")\n"
   ]
  },
  {
   "cell_type": "code",
   "execution_count": 48,
   "id": "8d59711b",
   "metadata": {},
   "outputs": [
    {
     "data": {
      "text/html": [
       "<div>\n",
       "<style scoped>\n",
       "    .dataframe tbody tr th:only-of-type {\n",
       "        vertical-align: middle;\n",
       "    }\n",
       "\n",
       "    .dataframe tbody tr th {\n",
       "        vertical-align: top;\n",
       "    }\n",
       "\n",
       "    .dataframe thead th {\n",
       "        text-align: right;\n",
       "    }\n",
       "</style>\n",
       "<table border=\"1\" class=\"dataframe\">\n",
       "  <thead>\n",
       "    <tr style=\"text-align: right;\">\n",
       "      <th></th>\n",
       "      <th>name</th>\n",
       "      <th>latitude</th>\n",
       "      <th>longitud</th>\n",
       "    </tr>\n",
       "  </thead>\n",
       "  <tbody>\n",
       "    <tr>\n",
       "      <th>0</th>\n",
       "      <td>Starbucks</td>\n",
       "      <td>41.392007</td>\n",
       "      <td>2.180638</td>\n",
       "    </tr>\n",
       "    <tr>\n",
       "      <th>1</th>\n",
       "      <td>Starbucks</td>\n",
       "      <td>41.404985</td>\n",
       "      <td>2.192439</td>\n",
       "    </tr>\n",
       "    <tr>\n",
       "      <th>2</th>\n",
       "      <td>Starbucks</td>\n",
       "      <td>41.402337</td>\n",
       "      <td>2.174068</td>\n",
       "    </tr>\n",
       "    <tr>\n",
       "      <th>3</th>\n",
       "      <td>Starbucks</td>\n",
       "      <td>41.388819</td>\n",
       "      <td>2.171884</td>\n",
       "    </tr>\n",
       "    <tr>\n",
       "      <th>4</th>\n",
       "      <td>Starbucks</td>\n",
       "      <td>41.385209</td>\n",
       "      <td>2.177359</td>\n",
       "    </tr>\n",
       "  </tbody>\n",
       "</table>\n",
       "</div>"
      ],
      "text/plain": [
       "        name   latitude  longitud\n",
       "0  Starbucks  41.392007  2.180638\n",
       "1  Starbucks  41.404985  2.192439\n",
       "2  Starbucks  41.402337  2.174068\n",
       "3  Starbucks  41.388819  2.171884\n",
       "4  Starbucks  41.385209  2.177359"
      ]
     },
     "execution_count": 48,
     "metadata": {},
     "output_type": "execute_result"
    }
   ],
   "source": [
    "venue = \"starbucks\"\n",
    "coordinates = [41.3977461, 2.187674417]\n",
    "res = foursquare_places(venue, coordinates)\n",
    "limit = 5\n",
    "res"
   ]
  },
  {
   "cell_type": "markdown",
   "id": "1836c1a1",
   "metadata": {},
   "source": [
    "# 5. Export it into data folder as a json: `data/coffe_shops.json`"
   ]
  },
  {
   "cell_type": "code",
   "execution_count": 56,
   "id": "7ac5f2a8",
   "metadata": {},
   "outputs": [],
   "source": [
    "res.to_json(\"data/coffe_shops.json\")"
   ]
  },
  {
   "cell_type": "markdown",
   "id": "2d77e99d",
   "metadata": {},
   "source": [
    "# BONUS: load it into MongoDB in a collection named \"ironcoffee\" using pymongo"
   ]
  },
  {
   "cell_type": "code",
   "execution_count": 68,
   "id": "85b94955",
   "metadata": {},
   "outputs": [],
   "source": [
    "res.to_csv(\"data/res.csv\", index=False)"
   ]
  },
  {
   "cell_type": "code",
   "execution_count": 70,
   "id": "24c513a6",
   "metadata": {},
   "outputs": [
    {
     "data": {
      "text/plain": [
       "InsertManyResult([ObjectId('6543d974360b9a2873f733d0'), ObjectId('6543d974360b9a2873f733d1'), ObjectId('6543d974360b9a2873f733d2'), ObjectId('6543d974360b9a2873f733d3'), ObjectId('6543d974360b9a2873f733d4')], acknowledged=True)"
      ]
     },
     "execution_count": 70,
     "metadata": {},
     "output_type": "execute_result"
    }
   ],
   "source": [
    "import pymongo\n",
    "client = pymongo.MongoClient(\"localhost:27017\")\n",
    "db = client[\"Ironhack\"]\n",
    "c = db.get_collection(\"ironcoffee\")\n",
    "\n",
    "data = pd.read_csv(\"data/res.csv\").to_dict(orient=\"records\")\n",
    "\n",
    "# Insert the data into the MongoDB collection\n",
    "c.insert_many(data)"
   ]
  }
 ],
 "metadata": {
  "kernelspec": {
   "display_name": "ironhack",
   "language": "python",
   "name": "ironhack"
  },
  "language_info": {
   "codemirror_mode": {
    "name": "ipython",
    "version": 3
   },
   "file_extension": ".py",
   "mimetype": "text/x-python",
   "name": "python",
   "nbconvert_exporter": "python",
   "pygments_lexer": "ipython3",
   "version": "3.11.5"
  },
  "toc": {
   "base_numbering": 1,
   "nav_menu": {},
   "number_sections": true,
   "sideBar": true,
   "skip_h1_title": false,
   "title_cell": "Table of Contents",
   "title_sidebar": "Contents",
   "toc_cell": false,
   "toc_position": {},
   "toc_section_display": true,
   "toc_window_display": true
  }
 },
 "nbformat": 4,
 "nbformat_minor": 5
}
