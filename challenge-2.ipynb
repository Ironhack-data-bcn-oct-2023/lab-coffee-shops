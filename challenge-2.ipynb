{
 "cells": [
  {
   "cell_type": "markdown",
   "id": "0809e785",
   "metadata": {},
   "source": [
    "# 1. Import the necessary libraries for you to be able to query 4square API"
   ]
  },
  {
   "cell_type": "code",
   "execution_count": 1,
   "id": "9b373771",
   "metadata": {},
   "outputs": [
    {
     "data": {
      "text/plain": [
       "True"
      ]
     },
     "execution_count": 1,
     "metadata": {},
     "output_type": "execute_result"
    }
   ],
   "source": [
    "import requests\n",
    "import json\n",
    "import pandas as pd\n",
    "from getpass import getpass\n",
    "import os\n",
    "import time\n",
    "from pymongo import MongoClient\n",
    "from dotenv import load_dotenv\n",
    "load_dotenv()"
   ]
  },
  {
   "cell_type": "code",
   "execution_count": 2,
   "id": "a067bb78",
   "metadata": {},
   "outputs": [],
   "source": [
    "token = os.getenv(\"token\")"
   ]
  },
  {
   "cell_type": "code",
   "execution_count": 3,
   "id": "81f2b638",
   "metadata": {},
   "outputs": [],
   "source": [
    "def gets_coordinates_from_string(where):\n",
    "    url_geocode = f\"https://geocode.xyz/{where}?json=1\"\n",
    "    res = requests.get(url_geocode)\n",
    "    try:\n",
    "        return res.json()\n",
    "    except:\n",
    "        time.sleep(2)\n",
    "        gets_coordinates_from_string (where)"
   ]
  },
  {
   "cell_type": "code",
   "execution_count": 13,
   "id": "8ae99123",
   "metadata": {},
   "outputs": [],
   "source": [
    "def requests_for_foursquare (query, lat, lon, radius=None, limit=1):\n",
    "\n",
    "    url = f\"https://api.foursquare.com/v3/places/search?query={query}&ll={lat}%2C{lon}&limit={limit}\"\n",
    "    if radius:\n",
    "        url += f'&radius={radius}'\n",
    "\n",
    "    headers = {\n",
    "        \"accept\": \"application/json\",\n",
    "        \"Authorization\": token\n",
    "    }\n",
    "    \n",
    "    try:\n",
    "        return requests.get(url, headers=headers).json()\n",
    "    except:\n",
    "        print(\"no :(\")"
   ]
  },
  {
   "cell_type": "markdown",
   "id": "e94dce92",
   "metadata": {},
   "source": [
    "# 2. Get names and location of the 10 coffee places by passing Ironhack as your location"
   ]
  },
  {
   "cell_type": "code",
   "execution_count": 14,
   "id": "1d72f571",
   "metadata": {},
   "outputs": [
    {
     "data": {
      "text/plain": [
       "{'fsq_id': '5b8521d489e490002cefef18',\n",
       " 'categories': [{'id': 13035,\n",
       "   'name': 'Coffee Shop',\n",
       "   'short_name': 'Coffee Shop',\n",
       "   'plural_name': 'Coffee Shops',\n",
       "   'icon': {'prefix': 'https://ss3.4sqi.net/img/categories_v2/food/coffeeshop_',\n",
       "    'suffix': '.png'}},\n",
       "  {'id': 13065,\n",
       "   'name': 'Restaurant',\n",
       "   'short_name': 'Restaurant',\n",
       "   'plural_name': 'Restaurants',\n",
       "   'icon': {'prefix': 'https://ss3.4sqi.net/img/categories_v2/food/default_',\n",
       "    'suffix': '.png'}}],\n",
       " 'chains': [],\n",
       " 'closed_bucket': 'VeryLikelyOpen',\n",
       " 'distance': 354,\n",
       " 'geocodes': {'main': {'latitude': 41.397168, 'longitude': 2.183123},\n",
       "  'roof': {'latitude': 41.397168, 'longitude': 2.183123}},\n",
       " 'link': '/v3/places/5b8521d489e490002cefef18',\n",
       " 'location': {'address': 'Ausiàs Marc, 151',\n",
       "  'admin_region': 'Cataluña',\n",
       "  'country': 'ES',\n",
       "  'formatted_address': 'Ausiàs Marc, 151, 08013 Barcelona Catalunya',\n",
       "  'locality': 'Barcelona',\n",
       "  'postcode': '08013',\n",
       "  'region': 'Catalunya'},\n",
       " 'name': 'Three Marks Coffee',\n",
       " 'related_places': {},\n",
       " 'timezone': 'Europe/Madrid'}"
      ]
     },
     "execution_count": 14,
     "metadata": {},
     "output_type": "execute_result"
    }
   ],
   "source": [
    "iron_lat = '41.3977461'\n",
    "iron_long = '2.1876744'\n",
    "# res = gets_coordinates_from_string (\"Carrer Pamplona 96\")\n",
    "# res\n",
    "\n",
    "res = requests_for_foursquare(\"coffee\", iron_lat, iron_long, limit=10)\n",
    "res = res['results']\n",
    "res[0]"
   ]
  },
  {
   "cell_type": "code",
   "execution_count": 25,
   "id": "0881b7a0",
   "metadata": {},
   "outputs": [
    {
     "data": {
      "text/plain": [
       "[{'name': 'Three Marks Coffee',\n",
       "  'location': {'address': 'Ausiàs Marc, 151',\n",
       "   'admin_region': 'Cataluña',\n",
       "   'country': 'ES',\n",
       "   'formatted_address': 'Ausiàs Marc, 151, 08013 Barcelona Catalunya',\n",
       "   'locality': 'Barcelona',\n",
       "   'postcode': '08013',\n",
       "   'region': 'Catalunya'},\n",
       "  'latitude': 41.397168,\n",
       "  'longitude': 2.183123},\n",
       " {'name': \"Nømad Roaster's Home\",\n",
       "  'location': {'address': 'Calle de Pujades, 95',\n",
       "   'admin_region': 'Cataluña',\n",
       "   'country': 'ES',\n",
       "   'cross_street': 'C. de Badajoz',\n",
       "   'formatted_address': 'Calle de Pujades, 95 (C. de Badajoz), 08005 Barcelona',\n",
       "   'locality': 'Barcelona',\n",
       "   'postcode': '08005'},\n",
       "  'latitude': 41.397977,\n",
       "  'longitude': 2.195589}]"
      ]
     },
     "execution_count": 25,
     "metadata": {},
     "output_type": "execute_result"
    }
   ],
   "source": [
    "def get_name_location(rest):\n",
    "    return {'name': rest['name'], 'location': rest['location'], 'latitude': rest['geocodes']['main']['latitude'], 'longitude': rest['geocodes']['main']['longitude']}\n",
    "\n",
    "coffes = [get_name_location(i) for i in res]\n",
    "coffes[0:2]"
   ]
  },
  {
   "cell_type": "markdown",
   "id": "941b5dbf",
   "metadata": {},
   "source": [
    "# 3. Now get the 5 CLOSEST coffe places. Make use of params: limit, near?"
   ]
  },
  {
   "cell_type": "code",
   "execution_count": 20,
   "id": "fda8ddff",
   "metadata": {},
   "outputs": [
    {
     "data": {
      "text/plain": [
       "[{'name': 'Three Marks Coffee',\n",
       "  'location': {'address': 'Ausiàs Marc, 151',\n",
       "   'admin_region': 'Cataluña',\n",
       "   'country': 'ES',\n",
       "   'formatted_address': 'Ausiàs Marc, 151, 08013 Barcelona Catalunya',\n",
       "   'locality': 'Barcelona',\n",
       "   'postcode': '08013',\n",
       "   'region': 'Catalunya'},\n",
       "  'latitude': 41.397168,\n",
       "  'longitude': 2.183123},\n",
       " {'name': \"Nømad Roaster's Home\",\n",
       "  'location': {'address': 'Calle de Pujades, 95',\n",
       "   'admin_region': 'Cataluña',\n",
       "   'country': 'ES',\n",
       "   'cross_street': 'C. de Badajoz',\n",
       "   'formatted_address': 'Calle de Pujades, 95 (C. de Badajoz), 08005 Barcelona',\n",
       "   'locality': 'Barcelona',\n",
       "   'postcode': '08005'},\n",
       "  'latitude': 41.397977,\n",
       "  'longitude': 2.195589},\n",
       " {'name': 'Brew Coffee',\n",
       "  'location': {'address': 'Calle de Roger de Flor, 102',\n",
       "   'admin_region': 'Cataluña',\n",
       "   'country': 'ES',\n",
       "   'cross_street': '',\n",
       "   'formatted_address': 'Calle de Roger de Flor, 102, 08013 Barcelona Catalunya',\n",
       "   'locality': 'Barcelona',\n",
       "   'postcode': '08013',\n",
       "   'region': 'Catalunya'},\n",
       "  'latitude': 41.394562,\n",
       "  'longitude': 2.178425},\n",
       " {'name': 'El Petit Príncep',\n",
       "  'location': {'address': 'Gran Vía de Les Corts Catalanes, 677',\n",
       "   'admin_region': 'Cataluña',\n",
       "   'country': 'ES',\n",
       "   'cross_street': 'btwn c/ Nàpols & c/ Roger de Flor',\n",
       "   'formatted_address': 'Gran Vía de Les Corts Catalanes, 677 (btwn c/ Nàpols & c/ Roger de Flor), 08013 Barcelona Catalunya',\n",
       "   'locality': 'Barcelona',\n",
       "   'postcode': '08013',\n",
       "   'region': 'Catalunya'},\n",
       "  'latitude': 41.396371,\n",
       "  'longitude': 2.177069},\n",
       " {'name': 'Funky Bakers',\n",
       "  'location': {'address': 'Carrer de la Diputació, 347',\n",
       "   'admin_region': 'Cataluña',\n",
       "   'country': 'ES',\n",
       "   'cross_street': '',\n",
       "   'formatted_address': 'Carrer de la Diputació, 347, 08009 Barcelona Catalunya',\n",
       "   'locality': 'Barcelona',\n",
       "   'postcode': '08009',\n",
       "   'region': 'Catalunya'},\n",
       "  'latitude': 41.394916,\n",
       "  'longitude': 2.172866}]"
      ]
     },
     "execution_count": 20,
     "metadata": {},
     "output_type": "execute_result"
    }
   ],
   "source": [
    "res = requests_for_foursquare(\"coffee\", iron_lat, iron_long, limit=5)\n",
    "res = res['results']\n",
    "coffes = [get_name_location(i) for i in res]\n",
    "coffes\n"
   ]
  },
  {
   "cell_type": "markdown",
   "id": "d19904e8",
   "metadata": {},
   "source": [
    "# 4. Define a function that returns name, lat, long for starbucks OR restaurants AND for any given location"
   ]
  },
  {
   "cell_type": "code",
   "execution_count": 17,
   "id": "1fad5153",
   "metadata": {},
   "outputs": [],
   "source": [
    "def foursquare_places(venue):\n",
    "    endpoint = f'https://api.foursquare.com/v3/places/search?query={venue}'\n",
    "    \n",
    "    headers = {\n",
    "        \"accept\": \"application/json\",\n",
    "        \"Authorization\": token\n",
    "    }\n",
    "    \n",
    "    try:\n",
    "        response = requests.get(endpoint, headers=headers)\n",
    "        response.raise_for_status()  # Check for any errors in the response\n",
    "        data = response.json()\n",
    "        \n",
    "        data = data['results']\n",
    "        results = []\n",
    "        \n",
    "        for i in data:\n",
    "            name = i['name']\n",
    "            location = i['geocodes']['main']\n",
    "            lat = location.get('latitude')\n",
    "            lng = location.get('longitude')\n",
    "            results.append({\n",
    "                'name': name,\n",
    "                'lat': lat,\n",
    "                'lng': lng\n",
    "            })\n",
    "        \n",
    "        return results\n",
    "    except requests.exceptions.RequestException as e:\n",
    "        print(f\"Error: {e}\")\n",
    "        return []"
   ]
  },
  {
   "cell_type": "code",
   "execution_count": 33,
   "id": "018cfa34",
   "metadata": {},
   "outputs": [
    {
     "data": {
      "text/plain": [
       "[{'name': 'Dalston Coffee', 'lat': 41.384525, 'lng': 2.168502},\n",
       " {'name': 'Barcentral', 'lat': 41.38368, 'lng': 2.168826},\n",
       " {'name': 'Chok - The Chocolate Kitchen', 'lat': 41.382801, 'lng': 2.171393},\n",
       " {'name': 'Nømad Coffee Lab & Shop', 'lat': 41.388989, 'lng': 2.177167},\n",
       " {'name': 'Caravelle', 'lat': 41.382226, 'lng': 2.168842},\n",
       " {'name': 'Departure Coffee Co', 'lat': 41.38361, 'lng': 2.164875},\n",
       " {'name': 'Funky Bakers', 'lat': 41.394916, 'lng': 2.172866},\n",
       " {'name': \"Satan's Coffee Corner\", 'lat': 41.38264, 'lng': 2.175303},\n",
       " {'name': 'Roast Club', 'lat': 41.387825, 'lng': 2.157221},\n",
       " {'name': 'Cafés el Magnífico', 'lat': 41.383541, 'lng': 2.180957}]"
      ]
     },
     "execution_count": 33,
     "metadata": {},
     "output_type": "execute_result"
    }
   ],
   "source": [
    "res = foursquare_places(\"coffee\")\n",
    "res"
   ]
  },
  {
   "cell_type": "markdown",
   "id": "1836c1a1",
   "metadata": {},
   "source": [
    "# 5. Export it into data folder as a json: `data/coffe_shops.json`"
   ]
  },
  {
   "cell_type": "code",
   "execution_count": 34,
   "id": "7ac5f2a8",
   "metadata": {},
   "outputs": [],
   "source": [
    "pd.DataFrame(res).to_json('data/coffe_shops.json')"
   ]
  },
  {
   "cell_type": "markdown",
   "id": "2d77e99d",
   "metadata": {},
   "source": [
    "# BONUS: load it into MongoDB in a collection named \"ironcoffee\" using pymongo"
   ]
  },
  {
   "cell_type": "code",
   "execution_count": 35,
   "id": "85b94955",
   "metadata": {},
   "outputs": [],
   "source": [
    "client = MongoClient(\"localhost:27017\")\n",
    "db = client[\"ironhack\"]\n",
    "collection = db['ironcoffee']\n",
    "for coffe in coffes:\n",
    "    collection.insert_one(coffe)"
   ]
  }
 ],
 "metadata": {
  "kernelspec": {
   "display_name": "ironhack",
   "language": "python",
   "name": "python3"
  },
  "language_info": {
   "codemirror_mode": {
    "name": "ipython",
    "version": 3
   },
   "file_extension": ".py",
   "mimetype": "text/x-python",
   "name": "python",
   "nbconvert_exporter": "python",
   "pygments_lexer": "ipython3",
   "version": "3.11.5"
  },
  "toc": {
   "base_numbering": 1,
   "nav_menu": {},
   "number_sections": true,
   "sideBar": true,
   "skip_h1_title": false,
   "title_cell": "Table of Contents",
   "title_sidebar": "Contents",
   "toc_cell": false,
   "toc_position": {},
   "toc_section_display": true,
   "toc_window_display": true
  }
 },
 "nbformat": 4,
 "nbformat_minor": 5
}
