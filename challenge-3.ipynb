{
 "cells": [
  {
   "cell_type": "markdown",
   "id": "0809e785",
   "metadata": {},
   "source": [
    "# 1. Read your exported json file from the data folder"
   ]
  },
  {
   "cell_type": "code",
   "execution_count": 69,
   "id": "e5eb5be4",
   "metadata": {},
   "outputs": [],
   "source": [
    "import geopandas as gdp\n",
    "import json\n",
    "import matplotlib.pyplot as plt"
   ]
  },
  {
   "cell_type": "code",
   "execution_count": 70,
   "id": "1d4b232d",
   "metadata": {},
   "outputs": [],
   "source": [
    "df = pd.read_json('../lab-coffee-shops/coffe_shops.json', lines=True)"
   ]
  },
  {
   "cell_type": "code",
   "execution_count": 71,
   "id": "dcc71071",
   "metadata": {},
   "outputs": [
    {
     "data": {
      "text/plain": [
       "Index(['Name', 'Latitude', 'Longitude', 'Distance'], dtype='object')"
      ]
     },
     "execution_count": 71,
     "metadata": {},
     "output_type": "execute_result"
    }
   ],
   "source": [
    "df.columns"
   ]
  },
  {
   "cell_type": "markdown",
   "id": "2f3f4a1b",
   "metadata": {},
   "source": [
    "# 2. Plot a map with the coffee shops"
   ]
  },
  {
   "cell_type": "code",
   "execution_count": 72,
   "id": "644bbf42",
   "metadata": {},
   "outputs": [],
   "source": [
    "import geopandas as gdp\n",
    "from cartoframes.viz import Map, Layer, popup_element"
   ]
  },
  {
   "cell_type": "code",
   "execution_count": 74,
   "id": "c45602d1",
   "metadata": {},
   "outputs": [
    {
     "data": {
      "text/html": [
       "<div style=\"width:100%;\"><div style=\"position:relative;width:100%;height:0;padding-bottom:60%;\"><span style=\"color:#565656\">Make this Notebook Trusted to load map: File -> Trust Notebook</span><iframe srcdoc=\"&lt;!DOCTYPE html&gt;\n",
       "&lt;html&gt;\n",
       "&lt;head&gt;\n",
       "    \n",
       "    &lt;meta http-equiv=&quot;content-type&quot; content=&quot;text/html; charset=UTF-8&quot; /&gt;\n",
       "    \n",
       "        &lt;script&gt;\n",
       "            L_NO_TOUCH = false;\n",
       "            L_DISABLE_3D = false;\n",
       "        &lt;/script&gt;\n",
       "    \n",
       "    &lt;style&gt;html, body {width: 100%;height: 100%;margin: 0;padding: 0;}&lt;/style&gt;\n",
       "    &lt;style&gt;#map {position:absolute;top:0;bottom:0;right:0;left:0;}&lt;/style&gt;\n",
       "    &lt;script src=&quot;https://cdn.jsdelivr.net/npm/leaflet@1.9.3/dist/leaflet.js&quot;&gt;&lt;/script&gt;\n",
       "    &lt;script src=&quot;https://code.jquery.com/jquery-1.12.4.min.js&quot;&gt;&lt;/script&gt;\n",
       "    &lt;script src=&quot;https://cdn.jsdelivr.net/npm/bootstrap@5.2.2/dist/js/bootstrap.bundle.min.js&quot;&gt;&lt;/script&gt;\n",
       "    &lt;script src=&quot;https://cdnjs.cloudflare.com/ajax/libs/Leaflet.awesome-markers/2.0.2/leaflet.awesome-markers.js&quot;&gt;&lt;/script&gt;\n",
       "    &lt;link rel=&quot;stylesheet&quot; href=&quot;https://cdn.jsdelivr.net/npm/leaflet@1.9.3/dist/leaflet.css&quot;/&gt;\n",
       "    &lt;link rel=&quot;stylesheet&quot; href=&quot;https://cdn.jsdelivr.net/npm/bootstrap@5.2.2/dist/css/bootstrap.min.css&quot;/&gt;\n",
       "    &lt;link rel=&quot;stylesheet&quot; href=&quot;https://netdna.bootstrapcdn.com/bootstrap/3.0.0/css/bootstrap.min.css&quot;/&gt;\n",
       "    &lt;link rel=&quot;stylesheet&quot; href=&quot;https://cdn.jsdelivr.net/npm/@fortawesome/fontawesome-free@6.2.0/css/all.min.css&quot;/&gt;\n",
       "    &lt;link rel=&quot;stylesheet&quot; href=&quot;https://cdnjs.cloudflare.com/ajax/libs/Leaflet.awesome-markers/2.0.2/leaflet.awesome-markers.css&quot;/&gt;\n",
       "    &lt;link rel=&quot;stylesheet&quot; href=&quot;https://cdn.jsdelivr.net/gh/python-visualization/folium/folium/templates/leaflet.awesome.rotate.min.css&quot;/&gt;\n",
       "    \n",
       "            &lt;meta name=&quot;viewport&quot; content=&quot;width=device-width,\n",
       "                initial-scale=1.0, maximum-scale=1.0, user-scalable=no&quot; /&gt;\n",
       "            &lt;style&gt;\n",
       "                #map_e39ae9dc03d31971edf8a5884a52bad5 {\n",
       "                    position: relative;\n",
       "                    width: 100.0%;\n",
       "                    height: 100.0%;\n",
       "                    left: 0.0%;\n",
       "                    top: 0.0%;\n",
       "                }\n",
       "                .leaflet-container { font-size: 1rem; }\n",
       "            &lt;/style&gt;\n",
       "        \n",
       "&lt;/head&gt;\n",
       "&lt;body&gt;\n",
       "    \n",
       "    \n",
       "            &lt;div class=&quot;folium-map&quot; id=&quot;map_e39ae9dc03d31971edf8a5884a52bad5&quot; &gt;&lt;/div&gt;\n",
       "        \n",
       "&lt;/body&gt;\n",
       "&lt;script&gt;\n",
       "    \n",
       "    \n",
       "            var map_e39ae9dc03d31971edf8a5884a52bad5 = L.map(\n",
       "                &quot;map_e39ae9dc03d31971edf8a5884a52bad5&quot;,\n",
       "                {\n",
       "                    center: [41.39791912922328, 2.1902385667124715],\n",
       "                    crs: L.CRS.EPSG3857,\n",
       "                    zoom: 10,\n",
       "                    zoomControl: true,\n",
       "                    preferCanvas: false,\n",
       "                }\n",
       "            );\n",
       "\n",
       "            \n",
       "\n",
       "        \n",
       "    \n",
       "            var tile_layer_2658c29abffcd7ee44134a36659d838c = L.tileLayer(\n",
       "                &quot;https://{s}.tile.openstreetmap.org/{z}/{x}/{y}.png&quot;,\n",
       "                {&quot;attribution&quot;: &quot;Data by \\u0026copy; \\u003ca target=\\&quot;_blank\\&quot; href=\\&quot;http://openstreetmap.org\\&quot;\\u003eOpenStreetMap\\u003c/a\\u003e, under \\u003ca target=\\&quot;_blank\\&quot; href=\\&quot;http://www.openstreetmap.org/copyright\\&quot;\\u003eODbL\\u003c/a\\u003e.&quot;, &quot;detectRetina&quot;: false, &quot;maxNativeZoom&quot;: 18, &quot;maxZoom&quot;: 18, &quot;minZoom&quot;: 0, &quot;noWrap&quot;: false, &quot;opacity&quot;: 1, &quot;subdomains&quot;: &quot;abc&quot;, &quot;tms&quot;: false}\n",
       "            ).addTo(map_e39ae9dc03d31971edf8a5884a52bad5);\n",
       "        \n",
       "    \n",
       "            var marker_1366a0ee823f8479c8b7b7befc455cb5 = L.marker(\n",
       "                [41.397168, 2.183123],\n",
       "                {}\n",
       "            ).addTo(map_e39ae9dc03d31971edf8a5884a52bad5);\n",
       "        \n",
       "    \n",
       "        var popup_2d4e6c71ff8317963fe3b4de58848699 = L.popup({&quot;maxWidth&quot;: &quot;100%&quot;});\n",
       "\n",
       "        \n",
       "            \n",
       "                var html_3d4df8cf932fbdc363caecca58a8336c = $(`&lt;div id=&quot;html_3d4df8cf932fbdc363caecca58a8336c&quot; style=&quot;width: 100.0%; height: 100.0%;&quot;&gt;Three Marks Coffee&lt;/div&gt;`)[0];\n",
       "                popup_2d4e6c71ff8317963fe3b4de58848699.setContent(html_3d4df8cf932fbdc363caecca58a8336c);\n",
       "            \n",
       "        \n",
       "\n",
       "        marker_1366a0ee823f8479c8b7b7befc455cb5.bindPopup(popup_2d4e6c71ff8317963fe3b4de58848699)\n",
       "        ;\n",
       "\n",
       "        \n",
       "    \n",
       "    \n",
       "            var marker_073457c1e7196a09887c3ab648e448a8 = L.marker(\n",
       "                [41.397977, 2.195589],\n",
       "                {}\n",
       "            ).addTo(map_e39ae9dc03d31971edf8a5884a52bad5);\n",
       "        \n",
       "    \n",
       "        var popup_07271113938ab5971a60f0e7b7691e2c = L.popup({&quot;maxWidth&quot;: &quot;100%&quot;});\n",
       "\n",
       "        \n",
       "            \n",
       "                var html_d93418675ab649b155891447710edd12 = $(`&lt;div id=&quot;html_d93418675ab649b155891447710edd12&quot; style=&quot;width: 100.0%; height: 100.0%;&quot;&gt;Nømad Roaster&#x27;s Home&lt;/div&gt;`)[0];\n",
       "                popup_07271113938ab5971a60f0e7b7691e2c.setContent(html_d93418675ab649b155891447710edd12);\n",
       "            \n",
       "        \n",
       "\n",
       "        marker_073457c1e7196a09887c3ab648e448a8.bindPopup(popup_07271113938ab5971a60f0e7b7691e2c)\n",
       "        ;\n",
       "\n",
       "        \n",
       "    \n",
       "    \n",
       "            var marker_06e7eaf54d260531d902c73fe104535d = L.marker(\n",
       "                [41.394916, 2.172866],\n",
       "                {}\n",
       "            ).addTo(map_e39ae9dc03d31971edf8a5884a52bad5);\n",
       "        \n",
       "    \n",
       "        var popup_1beba5aa49e87da3a934c8a348f42ecd = L.popup({&quot;maxWidth&quot;: &quot;100%&quot;});\n",
       "\n",
       "        \n",
       "            \n",
       "                var html_8071fa96595791ad1da7bb9b23469430 = $(`&lt;div id=&quot;html_8071fa96595791ad1da7bb9b23469430&quot; style=&quot;width: 100.0%; height: 100.0%;&quot;&gt;Funky Bakers&lt;/div&gt;`)[0];\n",
       "                popup_1beba5aa49e87da3a934c8a348f42ecd.setContent(html_8071fa96595791ad1da7bb9b23469430);\n",
       "            \n",
       "        \n",
       "\n",
       "        marker_06e7eaf54d260531d902c73fe104535d.bindPopup(popup_1beba5aa49e87da3a934c8a348f42ecd)\n",
       "        ;\n",
       "\n",
       "        \n",
       "    \n",
       "    \n",
       "            var marker_fa5726036e1265b564786de0ec1639f2 = L.marker(\n",
       "                [41.388989, 2.177167],\n",
       "                {}\n",
       "            ).addTo(map_e39ae9dc03d31971edf8a5884a52bad5);\n",
       "        \n",
       "    \n",
       "        var popup_3838d3343f4624348e63fe2eab973487 = L.popup({&quot;maxWidth&quot;: &quot;100%&quot;});\n",
       "\n",
       "        \n",
       "            \n",
       "                var html_4361a3ea0366f6455e726f70e38d5890 = $(`&lt;div id=&quot;html_4361a3ea0366f6455e726f70e38d5890&quot; style=&quot;width: 100.0%; height: 100.0%;&quot;&gt;Nømad Coffee Lab &amp; Shop&lt;/div&gt;`)[0];\n",
       "                popup_3838d3343f4624348e63fe2eab973487.setContent(html_4361a3ea0366f6455e726f70e38d5890);\n",
       "            \n",
       "        \n",
       "\n",
       "        marker_fa5726036e1265b564786de0ec1639f2.bindPopup(popup_3838d3343f4624348e63fe2eab973487)\n",
       "        ;\n",
       "\n",
       "        \n",
       "    \n",
       "    \n",
       "            var marker_0c34ef25b7ab5ee6318c83370d8e1f27 = L.marker(\n",
       "                [41.394562, 2.178425],\n",
       "                {}\n",
       "            ).addTo(map_e39ae9dc03d31971edf8a5884a52bad5);\n",
       "        \n",
       "    \n",
       "        var popup_3810cc05bf9046fb2285cecdff20eec1 = L.popup({&quot;maxWidth&quot;: &quot;100%&quot;});\n",
       "\n",
       "        \n",
       "            \n",
       "                var html_2d155690114549b7f76b79e7e2e899d2 = $(`&lt;div id=&quot;html_2d155690114549b7f76b79e7e2e899d2&quot; style=&quot;width: 100.0%; height: 100.0%;&quot;&gt;Brew Coffee&lt;/div&gt;`)[0];\n",
       "                popup_3810cc05bf9046fb2285cecdff20eec1.setContent(html_2d155690114549b7f76b79e7e2e899d2);\n",
       "            \n",
       "        \n",
       "\n",
       "        marker_0c34ef25b7ab5ee6318c83370d8e1f27.bindPopup(popup_3810cc05bf9046fb2285cecdff20eec1)\n",
       "        ;\n",
       "\n",
       "        \n",
       "    \n",
       "&lt;/script&gt;\n",
       "&lt;/html&gt;\" style=\"position:absolute;width:100%;height:100%;left:0;top:0;border:none !important;\" allowfullscreen webkitallowfullscreen mozallowfullscreen></iframe></div></div>"
      ],
      "text/plain": [
       "<folium.folium.Map at 0x22a3a9ab020>"
      ]
     },
     "execution_count": 74,
     "metadata": {},
     "output_type": "execute_result"
    }
   ],
   "source": [
    "lat = 41.39791912922328\n",
    "lon = 2.1902385667124715 \n",
    "\n",
    "map = folium.Map(location=[lat, lon], zoom_start=10)\n",
    "\n",
    "for index, row in df.iterrows():\n",
    "    folium.Marker(\n",
    "        location=[row['Latitude'], row['Longitude']],\n",
    "        popup=row['Name']\n",
    "    ).add_to(map)\n",
    "\n",
    "map"
   ]
  },
  {
   "cell_type": "markdown",
   "id": "9e0764d4",
   "metadata": {},
   "source": [
    "After pushing, view your own notebook on [nbviewer](https://nbviewer.org/)"
   ]
  }
 ],
 "metadata": {
  "kernelspec": {
   "display_name": "ironhack",
   "language": "python",
   "name": "python3"
  },
  "language_info": {
   "codemirror_mode": {
    "name": "ipython",
    "version": 3
   },
   "file_extension": ".py",
   "mimetype": "text/x-python",
   "name": "python",
   "nbconvert_exporter": "python",
   "pygments_lexer": "ipython3",
   "version": "3.12.0"
  },
  "toc": {
   "base_numbering": 1,
   "nav_menu": {},
   "number_sections": true,
   "sideBar": true,
   "skip_h1_title": false,
   "title_cell": "Table of Contents",
   "title_sidebar": "Contents",
   "toc_cell": false,
   "toc_position": {},
   "toc_section_display": true,
   "toc_window_display": true
  }
 },
 "nbformat": 4,
 "nbformat_minor": 5
}
